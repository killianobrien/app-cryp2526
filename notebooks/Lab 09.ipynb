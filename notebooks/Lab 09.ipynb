{
 "cells": [
  {
   "cell_type": "markdown",
   "id": "db475f32",
   "metadata": {},
   "source": [
    "## Week 09 Lab\n",
    "### Applied Cryptography (6G6Z0024_2324_9)\n",
    "### Killian O'Brien"
   ]
  },
  {
   "cell_type": "markdown",
   "id": "493c7468",
   "metadata": {},
   "source": [
    "A collection of lab exercises based on problems from Chapter 11 *Cryptographic hash functions*, of <a href=\"https://mmu.on.worldcat.org/oclc/1334132058\" target=\"_blank\">Stallings</a>. Extra commentary included here from me on the question if needed. \n",
    "\n",
    "These questions won't require Python programming as such, just careful thinking about the hash function concepts. "
   ]
  },
  {
   "attachments": {},
   "cell_type": "markdown",
   "id": "a9ae4cb8",
   "metadata": {},
   "source": [
    "### Lab exercises\n",
    "\n",
    "* 11.2 First read the comment below:\n",
    "\n",
    "This question asks about a proposed hash function with a straighforward definition based on the use of the DES encryption algorithm as the compression function $f$, with a message block taking the palce of the key. The question directs you to finding a security vulnerability in the hash function where the same hash value can be produced by processing an altered message. \n",
    "\n",
    "The question refers to a *complimentarity property* of DES. So first some background. Given a bit sequence $b$, the compliment $b'$ of $b$ is the bit sequence obtained by changing all $0$s to $1$s and changing all $1$s to $0$s, the *bit-wise compliment* in other words. So for example, if $b=$ `1101001`, then $b'=$`0010110`.\n",
    "\n",
    "Let $\\oplus$ denote the usual bit-wise $\\text{XOR}$ operation. Think about and prove to yourself that \n",
    "$$(a \\oplus b)' = a' \\oplus b,$$\n",
    "and \n",
    "$$a' \\oplus b' = a \\oplus b.$$\n",
    "\n",
    "Now with these definitions and properties in mind, you can engage with the problem 11.2 in Stallings. In answering the question you can consider altering the initial values that initialise the beginning hash $H_0$. \n",
    "\n",
    "Afterwards you might think about the previous problem 4.14, referred to in 11.2. That is, can you prove the *complimentarity property* of the DES encryption function $E$, i.e. that $((E(K,X))' = E(K',X')$. \n",
    "\n",
    "A question to think about: Would such regularity in the behaviour of DES encryption be seen as a security vulnerability?\n",
    "\n",
    "* 11.3\n",
    "* 11.6\n",
    "* 11.8\n",
    "* 11.9\n",
    "* 11.10\n",
    "* 11.12\n"
   ]
  },
  {
   "cell_type": "code",
   "execution_count": null,
   "id": "a2b42e5b",
   "metadata": {},
   "outputs": [],
   "source": []
  }
 ],
 "metadata": {
  "kernelspec": {
   "display_name": "Python 3",
   "language": "python",
   "name": "python3"
  },
  "language_info": {
   "codemirror_mode": {
    "name": "ipython",
    "version": 3
   },
   "file_extension": ".py",
   "mimetype": "text/x-python",
   "name": "python",
   "nbconvert_exporter": "python",
   "pygments_lexer": "ipython3",
   "version": "3.8.8"
  }
 },
 "nbformat": 4,
 "nbformat_minor": 5
}
