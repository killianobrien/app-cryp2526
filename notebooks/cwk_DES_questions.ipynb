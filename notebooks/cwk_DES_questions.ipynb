{
 "cells": [
  {
   "cell_type": "markdown",
   "id": "46ef47fb-8624-4f99-a44e-6258b693b963",
   "metadata": {},
   "source": [
    "# Coursework assignment: Data Encryption Standard (DES)\n",
    "## Applied Cryptography (6G6Z0024_2324_9)\n",
    "### Killian O'Brien"
   ]
  },
  {
   "cell_type": "markdown",
   "id": "926b8978-49f7-48fa-bc99-4f74175c78c5",
   "metadata": {},
   "source": [
    "### Introduction\n",
    "These questions are based on the idea of question 4.11 from Stallings. The question parts guide you through the application of a single round of the DES encryption algorithm. \n",
    "\n",
    "The algorithm is fully specified in appendix C of <a href=\"https://mmu.on.worldcat.org/oclc/1334132058\" target=\"_blank\">Stallings</a>. There you will find flowcharts and explanations of how the DES algorithm works. \n",
    "\n",
    "The numbered steps below will take you through the initial preparation of your message $m$ and key $k$, the calculation of the first sub-key $K_1$, and then the calculation of $L_1$ and $R_1$, the outputs of round 1 of DES. \n",
    "\n",
    "At the bottom of this notebook you will find Python definitions for lists defining the various transformation functions that form part of DES as described in appendix C. You are encouraged to make use of these, and suitable Python commands to answer the questions. "
   ]
  },
  {
   "cell_type": "markdown",
   "id": "d6c1c2bb-bcfe-4992-8168-e627d34e2aa3",
   "metadata": {},
   "source": [
    "### Guidance\n",
    "In answering these questions, the message $m$ and key $k$ are represented as 64 bit binary strings, i.e. strings of zeros and ones that are 64 characters long. \n",
    "\n",
    "The message $m$ you will use is the 64 bit binary string representing the ASCII encoding of your 8-digit university ID number. \n",
    "\n",
    "The key $k$ you will use is the 64 bit binary string defined as\n",
    "\n",
    "    k = '0011000100110010001100110011010000110101001101100011011100111000'\n",
    "This string is the binary representation of the ASCII encoding of the string `'12345678'` which is calculated as shown in the Python block below.\n",
    "\n",
    "To help you check your workings and detect any errors the final 64-bit binary string output, which is the concatenation of $L_1$ and $R_1$, for your university ID number, can be found in the table at the following link: <a href=\"https://killianobrien.github.io/app-cryp2324/schedule/notebooks/des.html\" target=\"_blank\">encrypted ID numbers</a>."
   ]
  },
  {
   "cell_type": "code",
   "execution_count": 1,
   "id": "69343b88-fb4b-4445-85ee-404f66eb265e",
   "metadata": {},
   "outputs": [
    {
     "name": "stdout",
     "output_type": "stream",
     "text": [
      "0011000100110010001100110011010000110101001101100011011100111000\n"
     ]
    }
   ],
   "source": [
    "k = '12345678'\n",
    "\n",
    "# bin(ord(x)) gives the python binary string representing the ASCII encoding of \n",
    "# the character x. Slicing this from index 2 onwards removes the `0b` binary indication code\n",
    "# from the front of the string. zfill(8) fills in any leading zeros that were stripped \n",
    "# from bin(ord(x)) to give a standard 8 bit binary string.\n",
    "\n",
    "k = [bin(ord(x))[2:].zfill(8) for x in k]\n",
    "\n",
    "# the join method joins the eight 8-bit binary strings from the list k with the empty string, i.e. it \n",
    "# concatenates the eight 8-bit binary strings into a single 64-bit binary string. \n",
    "\n",
    "k = ''.join(x for x in k)\n",
    "print(k)"
   ]
  },
  {
   "cell_type": "markdown",
   "id": "5388c820-aa66-4302-898c-854149399166",
   "metadata": {},
   "source": [
    "#### Warning\n",
    "In the description of DES in Appendix C of Stallings, when referencing the position of a bit in a message block he uses index references beginning at 1. So the left-most bit in a message block is at index 1, the next bit is at index 2 and so on. However when referencing bit positions in binary strings in your Python commands you will need to remember that Python references positions in arrays, strings etc using indexing beginning at 0. So the leftmost bit in a binary string is at index 0, the second bit is at index 1, and so on. You will need to be careful to avoid any *off-by-one* errors. "
   ]
  },
  {
   "cell_type": "markdown",
   "id": "29958f1b-3254-4a89-b662-76f6d95fd4cb",
   "metadata": {},
   "source": [
    "### Questions\n",
    "\n",
    "Prepare a Jupyter notebook and for each question below define the asked for variable. **Make sure you use the exact variable names given in the questions**. For each question you should also prepare a text-cell giving a brief explanation of how you answered the question. The labelling of intermediate variables follows the notation used in figure C.2 of Stallings, pg. 769.\n",
    "\n",
    "1. Determine the $64$ bit binary string given by the ASCII encoding of your $8$-digit Man Met university ID number. Assign this string to the variable `m` in your notebook. This is your message to be encrypted. \n",
    "2. Determine the result of applying the Initial Permutation to your message $m$. Store the resulting 64 bit binary string in the variable `IPm` in your notebook.\n",
    "3. Determine the left and right halves that are the inputs to the first round. Store these 32 bit binary strings in the variables `L0` and `R0` respectively.\n",
    "4. Determine the Expansion/permutation of $R_0$ and store the resulting 48 bit binary string in the variable `ER0`.\n",
    "5. Determine the first subkey $K_1$ and store the 48 bit binary string in the variable `K1`.\n",
    "6. Determine the XOR operation on the inputs $ER_0$ and $K_1$. Store the resulting 48 bit binary string the variable `A`.\n",
    "7. Determine the result of applying the S-box substitution/choice operation to your bit string $A$. Store the resulting 32 bit binary string in the variable `SA`.\n",
    "8. Determine the result of applying the permutation function to $SA$ and store the resulting 32 bit binary string the variable `PSA`.\n",
    "9. Determine the two 32 bit binary output strings $L_1$ and $R_1$ and store these in the variables `L1` and `R1` respectively. "
   ]
  },
  {
   "cell_type": "markdown",
   "id": "72a3a777-2a13-4b30-81a6-43d9dc573171",
   "metadata": {},
   "source": [
    "### Table data"
   ]
  },
  {
   "cell_type": "code",
   "execution_count": 2,
   "id": "bed7ad9a-e9e6-4911-adba-706c4e9a1a6e",
   "metadata": {},
   "outputs": [],
   "source": [
    "# Initial Permutation\n",
    "IP=[\n",
    "58, 50, 42, 34, 26, 18, 10, 2,\n",
    "60, 52, 44, 36, 28, 20, 12, 4,\n",
    "62, 54, 46, 38, 30, 22, 14, 6,\n",
    "64, 56, 48, 40, 32, 24, 16, 8,\n",
    "57, 49, 41, 33, 25, 17, 9, 1,\n",
    "59, 51, 43, 35, 27, 19, 11, 3,\n",
    "61, 53, 45, 37, 29, 21, 13, 5,\n",
    "63, 55, 47, 39, 31, 23, 15, 7]\n"
   ]
  },
  {
   "cell_type": "code",
   "execution_count": 3,
   "id": "0e7471ba-06b3-449c-a3b4-5621408f91de",
   "metadata": {},
   "outputs": [],
   "source": [
    "# Expansion permutation\n",
    "E = [32,1,2,3,4,5,4,5,6,7,8,9,8,9,10,11,12,13,12,13,14,15,16,17, \n",
    "16,17,18,19,20,21,20,21,22,23,24,25,24,25,26,27,28,29,28,29,30,31,32,1]"
   ]
  },
  {
   "cell_type": "code",
   "execution_count": 4,
   "id": "40c1ca74-249a-41a5-8e3f-2a9fb6a72141",
   "metadata": {},
   "outputs": [],
   "source": [
    "#S-boxes\n",
    "SBOX = [\n",
    "# Box-1\n",
    "[\n",
    "[14,4,13,1,2,15,11,8,3,10,6,12,5,9,0,7],\n",
    "[0,15,7,4,14,2,13,1,10,6,12,11,9,5,3,8],\n",
    "[4,1,14,8,13,6,2,11,15,12,9,7,3,10,5,0],\n",
    "[15,12,8,2,4,9,1,7,5,11,3,14,10,0,6,13]\n",
    "],\n",
    "# Box-2\n",
    "\n",
    "[\n",
    "[15,1,8,14,6,11,3,4,9,7,2,13,12,0,5,10],\n",
    "[3,13,4,7,15,2,8,14,12,0,1,10,6,9,11,5],\n",
    "[0,14,7,11,10,4,13,1,5,8,12,6,9,3,2,15],\n",
    "[13,8,10,1,3,15,4,2,11,6,7,12,0,5,14,9]\n",
    "],\n",
    "\n",
    "# Box-3\n",
    "\n",
    "[\n",
    "[10,0,9,14,6,3,15,5,1,13,12,7,11,4,2,8],\n",
    "[13,7,0,9,3,4,6,10,2,8,5,14,12,11,15,1],\n",
    "[13,6,4,9,8,15,3,0,11,1,2,12,5,10,14,7],\n",
    "[1,10,13,0,6,9,8,7,4,15,14,3,11,5,2,12]\n",
    "\n",
    "],\n",
    "\n",
    "# Box-4\n",
    "[\n",
    "[7,13,14,3,0,6,9,10,1,2,8,5,11,12,4,15],\n",
    "[13,8,11,5,6,15,0,3,4,7,2,12,1,10,14,9],\n",
    "[10,6,9,0,12,11,7,13,15,1,3,14,5,2,8,4],\n",
    "[3,15,0,6,10,1,13,8,9,4,5,11,12,7,2,14]\n",
    "],\n",
    "\n",
    "# Box-5\n",
    "[\n",
    "[2,12,4,1,7,10,11,6,8,5,3,15,13,0,14,9],\n",
    "[14,11,2,12,4,7,13,1,5,0,15,10,3,9,8,6],\n",
    "[4,2,1,11,10,13,7,8,15,9,12,5,6,3,0,14],\n",
    "[11,8,12,7,1,14,2,13,6,15,0,9,10,4,5,3]\n",
    "],\n",
    "# Box-6\n",
    "\n",
    "[\n",
    "[12,1,10,15,9,2,6,8,0,13,3,4,14,7,5,11],\n",
    "[10,15,4,2,7,12,9,5,6,1,13,14,0,11,3,8],\n",
    "[9,14,15,5,2,8,12,3,7,0,4,10,1,13,11,6],\n",
    "[4,3,2,12,9,5,15,10,11,14,1,7,6,0,8,13]\n",
    "\n",
    "],\n",
    "# Box-7\n",
    "[\n",
    "[4,11,2,14,15,0,8,13,3,12,9,7,5,10,6,1],\n",
    "[13,0,11,7,4,9,1,10,14,3,5,12,2,15,8,6],\n",
    "[1,4,11,13,12,3,7,14,10,15,6,8,0,5,9,2],\n",
    "[6,11,13,8,1,4,10,7,9,5,0,15,14,2,3,12]\n",
    "],\n",
    "# Box-8\n",
    "\n",
    "[\n",
    "[13,2,8,4,6,15,11,1,10,9,3,14,5,0,12,7],\n",
    "[1,15,13,8,10,3,7,4,12,5,6,11,0,14,9,2],\n",
    "[7,11,4,1,9,12,14,2,0,6,10,13,15,3,5,8],\n",
    "[2,1,14,7,4,10,8,13,15,12,9,0,3,5,6,11]\n",
    "]\n",
    "\n",
    "]"
   ]
  },
  {
   "cell_type": "code",
   "execution_count": 5,
   "id": "e28b44dd-c722-4723-ab3b-02c01902f370",
   "metadata": {},
   "outputs": [],
   "source": [
    "# Permutation P\n",
    "P = [16,7,20,21,29,12,28,17,1,15,23,26,5,18,31,10,\n",
    "2,8,24,14,32,27,3,9,19,13,30,6,22,11,4,25]"
   ]
  },
  {
   "cell_type": "code",
   "execution_count": 6,
   "id": "836852d0-fb77-40af-b128-dd4665c67900",
   "metadata": {},
   "outputs": [],
   "source": [
    "# Permuted choice 1, used in key generation\n",
    "PC1 = [57,49,41,33,25,17,9,1,58,50,42,34,26,18,10,2,59,51,43,35,27,19,11,3,60,\n",
    "52,44,36,63,55,47,39,31,23,15,7,62,54,46,38,30,22,14,6,61,53,45,37,29,21,13,5,28,20,12,4]"
   ]
  },
  {
   "cell_type": "code",
   "execution_count": 7,
   "id": "e0581361-6c52-400e-bfe1-1d50a12969f6",
   "metadata": {},
   "outputs": [],
   "source": [
    "# Permuted choice 2, used in key generation\n",
    "PC2 = [14,17,11,24,1,5,3,28,15,6,21,10,23,19,12,4,26,8,16,7,27,20,13,2,41,52,\n",
    "31,37,47,55,30,40,51,45,33,48,44,49,39,56,34,53,46,42,50,36,29,32]"
   ]
  },
  {
   "cell_type": "code",
   "execution_count": 8,
   "id": "7fb48482-900b-46e1-b9a8-b515baeaf8b3",
   "metadata": {},
   "outputs": [
    {
     "data": {
      "text/plain": [
       "'1001'"
      ]
     },
     "execution_count": 8,
     "metadata": {},
     "output_type": "execute_result"
    }
   ],
   "source": [
    "# Python function for carrying out the xor of two binary strings\n",
    "\n",
    "def XOR(a,b):\n",
    "    # a and b should be binary strings of equal length\n",
    "    c = ''.join(str((int(x) + int(y))%2) for x,y in zip(a,b))\n",
    "    return c\n",
    "\n",
    "#example usage\n",
    "XOR('1100','0101')"
   ]
  },
  {
   "cell_type": "code",
   "execution_count": null,
   "id": "64d69bc1-0fe0-4dfc-b99e-1d11052d6a9f",
   "metadata": {},
   "outputs": [],
   "source": []
  }
 ],
 "metadata": {
  "kernelspec": {
   "display_name": "Python 3",
   "language": "python",
   "name": "python3"
  },
  "language_info": {
   "codemirror_mode": {
    "name": "ipython",
    "version": 3
   },
   "file_extension": ".py",
   "mimetype": "text/x-python",
   "name": "python",
   "nbconvert_exporter": "python",
   "pygments_lexer": "ipython3",
   "version": "3.8.8"
  }
 },
 "nbformat": 4,
 "nbformat_minor": 5
}
