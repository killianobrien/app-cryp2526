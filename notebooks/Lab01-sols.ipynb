{
 "cells": [
  {
   "cell_type": "markdown",
   "id": "267cc247",
   "metadata": {},
   "source": [
    "# Week 01 Lab solutions\n",
    "## Applied Cryptography (6G6Z0024)\n",
    "### Killian O'Brien"
   ]
  },
  {
   "cell_type": "markdown",
   "id": "b8577d25",
   "metadata": {},
   "source": [
    "Import the [Sympy](https://www.sympy.org/en/index.html) library to provide the `synmpy.gcd`, `sympy.floor`, `sympy.mod_inverse` functions and others.\n",
    "\n",
    "See accompanying videos on Moodle for explanations of these solutions."
   ]
  },
  {
   "cell_type": "code",
   "execution_count": 1,
   "id": "745f8bdd",
   "metadata": {},
   "outputs": [],
   "source": [
    "import sympy as sp"
   ]
  },
  {
   "cell_type": "markdown",
   "id": "7b7a792e",
   "metadata": {},
   "source": [
    "#### Q1"
   ]
  },
  {
   "cell_type": "code",
   "execution_count": 2,
   "id": "a8bf6329",
   "metadata": {},
   "outputs": [
    {
     "data": {
      "text/latex": [
       "$\\displaystyle 10$"
      ],
      "text/plain": [
       "10"
      ]
     },
     "execution_count": 2,
     "metadata": {},
     "output_type": "execute_result"
    }
   ],
   "source": [
    "sp.gcd(710,310)"
   ]
  },
  {
   "cell_type": "markdown",
   "id": "68ba4b84-c6a3-47da-a414-d799c9f42056",
   "metadata": {},
   "source": [
    "The version of `mygcd` below implements the tasks 1 and 2 of Q1. "
   ]
  },
  {
   "cell_type": "code",
   "execution_count": 3,
   "id": "4e896d67",
   "metadata": {},
   "outputs": [],
   "source": [
    "def mygcd(a,b):\n",
    "    a = abs(a)\n",
    "    b = abs(b)\n",
    "    if b==0:\n",
    "        return a\n",
    "    elif a==0:\n",
    "        return b\n",
    "    else:\n",
    "        q = sp.floor(a/b)\n",
    "        r = a - q*b\n",
    "        #s = 'The int div with remainder is '+str(a)+'='+str(q)+'*'+str(b)+'+'+str(r)\n",
    "        #print(s)\n",
    "        return mygcd(b,r)"
   ]
  },
  {
   "cell_type": "code",
   "execution_count": 4,
   "id": "f459cc03",
   "metadata": {},
   "outputs": [
    {
     "data": {
      "text/latex": [
       "$\\displaystyle 10$"
      ],
      "text/plain": [
       "10"
      ]
     },
     "execution_count": 4,
     "metadata": {},
     "output_type": "execute_result"
    }
   ],
   "source": [
    "mygcd(710,-310)"
   ]
  },
  {
   "cell_type": "code",
   "execution_count": 5,
   "id": "86b131fe",
   "metadata": {},
   "outputs": [
    {
     "data": {
      "text/latex": [
       "$\\displaystyle 1$"
      ],
      "text/plain": [
       "1"
      ]
     },
     "execution_count": 5,
     "metadata": {},
     "output_type": "execute_result"
    }
   ],
   "source": [
    "a = 23478056238745687\n",
    "b = 2345672534\n",
    "\n",
    "sp.gcd(a,b)"
   ]
  },
  {
   "cell_type": "code",
   "execution_count": 6,
   "id": "fd6eee3d",
   "metadata": {},
   "outputs": [
    {
     "data": {
      "text/latex": [
       "$\\displaystyle 1$"
      ],
      "text/plain": [
       "1"
      ]
     },
     "execution_count": 6,
     "metadata": {},
     "output_type": "execute_result"
    }
   ],
   "source": [
    "mygcd(a,b)"
   ]
  },
  {
   "cell_type": "markdown",
   "id": "a8bf34f3",
   "metadata": {},
   "source": [
    "#### Q2"
   ]
  },
  {
   "cell_type": "code",
   "execution_count": 7,
   "id": "eebc41b9",
   "metadata": {},
   "outputs": [
    {
     "data": {
      "text/plain": [
       "(7, -16, 10)"
      ]
     },
     "execution_count": 7,
     "metadata": {},
     "output_type": "execute_result"
    }
   ],
   "source": [
    "sp.gcdex(710,310)"
   ]
  },
  {
   "cell_type": "code",
   "execution_count": 8,
   "id": "6f68f747",
   "metadata": {},
   "outputs": [
    {
     "data": {
      "text/plain": [
       "10"
      ]
     },
     "execution_count": 8,
     "metadata": {},
     "output_type": "execute_result"
    }
   ],
   "source": [
    "7*710 -16*310"
   ]
  },
  {
   "cell_type": "markdown",
   "id": "17422e60-bfd7-4884-88ec-806cdf10efc8",
   "metadata": {},
   "source": [
    "The version of `mygcdex` below implements the requirements of tasks 1-4 of Q2. "
   ]
  },
  {
   "cell_type": "code",
   "execution_count": 9,
   "id": "7098c021",
   "metadata": {},
   "outputs": [],
   "source": [
    "def mygcdex(a,b):\n",
    "    if b==0:\n",
    "        return (1,0,a)\n",
    "    else:\n",
    "        # int div a = q*b + r,  0<= r < abs(b)\n",
    "        q = sp.floor(a/b)\n",
    "        \n",
    "        if b > 0:\n",
    "            r = a - q*b\n",
    "        elif b < 0:\n",
    "            r = a - (q+1)*b\n",
    "            \n",
    "        (x,y,d) = mygcdex(b,r)\n",
    "        newx = y\n",
    "        if b > 0:\n",
    "            newy = x - q*y\n",
    "        elif b < 0:\n",
    "            newy = x - y*(q+1)\n",
    "        return (newx,newy,d)"
   ]
  },
  {
   "cell_type": "code",
   "execution_count": 10,
   "id": "11a38c6d",
   "metadata": {},
   "outputs": [
    {
     "data": {
      "text/plain": [
       "(7, 16, 10)"
      ]
     },
     "execution_count": 10,
     "metadata": {},
     "output_type": "execute_result"
    }
   ],
   "source": [
    "mygcdex(710,-310)"
   ]
  },
  {
   "cell_type": "code",
   "execution_count": 11,
   "id": "f5498e5f",
   "metadata": {},
   "outputs": [
    {
     "data": {
      "text/plain": [
       "10"
      ]
     },
     "execution_count": 11,
     "metadata": {},
     "output_type": "execute_result"
    }
   ],
   "source": [
    "7*710 +16*(-310)"
   ]
  },
  {
   "cell_type": "code",
   "execution_count": 12,
   "id": "8ffcec95",
   "metadata": {},
   "outputs": [
    {
     "name": "stdout",
     "output_type": "stream",
     "text": [
      "(-1073503545, 10744797595009424, 1)\n"
     ]
    }
   ],
   "source": [
    "a = 23478056238745687\n",
    "b = 2345672534\n",
    "\n",
    "t = sp.gcdex(a,b)\n",
    "print(t)"
   ]
  },
  {
   "cell_type": "code",
   "execution_count": 13,
   "id": "63cda652",
   "metadata": {},
   "outputs": [
    {
     "data": {
      "text/plain": [
       "True"
      ]
     },
     "execution_count": 13,
     "metadata": {},
     "output_type": "execute_result"
    }
   ],
   "source": [
    "t[0]*a + t[1]*b == t[2]"
   ]
  },
  {
   "cell_type": "code",
   "execution_count": 14,
   "id": "dcdeba08",
   "metadata": {},
   "outputs": [
    {
     "name": "stdout",
     "output_type": "stream",
     "text": [
      "(-1073503545, 10744797595009424, 1)\n"
     ]
    }
   ],
   "source": [
    "a = 23478056238745687\n",
    "b = 2345672534\n",
    "\n",
    "t = mygcdex(a,b)\n",
    "print(t)"
   ]
  },
  {
   "cell_type": "code",
   "execution_count": 15,
   "id": "9f1829e9",
   "metadata": {},
   "outputs": [
    {
     "data": {
      "text/plain": [
       "True"
      ]
     },
     "execution_count": 15,
     "metadata": {},
     "output_type": "execute_result"
    }
   ],
   "source": [
    "t[0]*a + t[1]*b == t[2]"
   ]
  },
  {
   "cell_type": "markdown",
   "id": "c63ef684",
   "metadata": {},
   "source": [
    "#### Q3 and Q4"
   ]
  },
  {
   "cell_type": "code",
   "execution_count": 16,
   "id": "42036816",
   "metadata": {},
   "outputs": [
    {
     "data": {
      "text/plain": [
       "5"
      ]
     },
     "execution_count": 16,
     "metadata": {},
     "output_type": "execute_result"
    }
   ],
   "source": [
    "sp.mod_inverse(5,8)"
   ]
  },
  {
   "cell_type": "code",
   "execution_count": 17,
   "id": "68269be9",
   "metadata": {},
   "outputs": [
    {
     "data": {
      "text/plain": [
       "9"
      ]
     },
     "execution_count": 17,
     "metadata": {},
     "output_type": "execute_result"
    }
   ],
   "source": [
    "sp.mod_inverse(5,11)"
   ]
  },
  {
   "cell_type": "code",
   "execution_count": 18,
   "id": "68276932",
   "metadata": {},
   "outputs": [],
   "source": [
    "def mymod_inverse(x,n):\n",
    "    t = mygcdex(x,n)\n",
    "    if t[2] != 1:\n",
    "        raise ValueError('The element '+str(x)+' is not invertible modulo '+str(n))\n",
    "    return sp.Mod(t[0],n)"
   ]
  },
  {
   "cell_type": "code",
   "execution_count": 19,
   "id": "1785f6bf",
   "metadata": {},
   "outputs": [
    {
     "data": {
      "text/latex": [
       "$\\displaystyle 5$"
      ],
      "text/plain": [
       "5"
      ]
     },
     "execution_count": 19,
     "metadata": {},
     "output_type": "execute_result"
    }
   ],
   "source": [
    "mymod_inverse(5,8)"
   ]
  },
  {
   "cell_type": "code",
   "execution_count": 20,
   "id": "432359b2",
   "metadata": {},
   "outputs": [
    {
     "data": {
      "text/latex": [
       "$\\displaystyle 9$"
      ],
      "text/plain": [
       "9"
      ]
     },
     "execution_count": 20,
     "metadata": {},
     "output_type": "execute_result"
    }
   ],
   "source": [
    "mymod_inverse(5,11)"
   ]
  },
  {
   "cell_type": "code",
   "execution_count": 21,
   "id": "341911e2",
   "metadata": {},
   "outputs": [
    {
     "ename": "ValueError",
     "evalue": "The element 2 is not invertible modulo 8",
     "output_type": "error",
     "traceback": [
      "\u001b[0;31m---------------------------------------------------------------------------\u001b[0m",
      "\u001b[0;31mValueError\u001b[0m                                Traceback (most recent call last)",
      "Cell \u001b[0;32mIn[21], line 1\u001b[0m\n\u001b[0;32m----> 1\u001b[0m \u001b[43mmymod_inverse\u001b[49m\u001b[43m(\u001b[49m\u001b[38;5;241;43m2\u001b[39;49m\u001b[43m,\u001b[49m\u001b[38;5;241;43m8\u001b[39;49m\u001b[43m)\u001b[49m\n",
      "Cell \u001b[0;32mIn[18], line 4\u001b[0m, in \u001b[0;36mmymod_inverse\u001b[0;34m(x, n)\u001b[0m\n\u001b[1;32m      2\u001b[0m t \u001b[38;5;241m=\u001b[39m mygcdex(x,n)\n\u001b[1;32m      3\u001b[0m \u001b[38;5;28;01mif\u001b[39;00m t[\u001b[38;5;241m2\u001b[39m] \u001b[38;5;241m!=\u001b[39m \u001b[38;5;241m1\u001b[39m:\n\u001b[0;32m----> 4\u001b[0m     \u001b[38;5;28;01mraise\u001b[39;00m \u001b[38;5;167;01mValueError\u001b[39;00m(\u001b[38;5;124m'\u001b[39m\u001b[38;5;124mThe element \u001b[39m\u001b[38;5;124m'\u001b[39m\u001b[38;5;241m+\u001b[39m\u001b[38;5;28mstr\u001b[39m(x)\u001b[38;5;241m+\u001b[39m\u001b[38;5;124m'\u001b[39m\u001b[38;5;124m is not invertible modulo \u001b[39m\u001b[38;5;124m'\u001b[39m\u001b[38;5;241m+\u001b[39m\u001b[38;5;28mstr\u001b[39m(n))\n\u001b[1;32m      5\u001b[0m \u001b[38;5;28;01mreturn\u001b[39;00m sp\u001b[38;5;241m.\u001b[39mMod(t[\u001b[38;5;241m0\u001b[39m],n)\n",
      "\u001b[0;31mValueError\u001b[0m: The element 2 is not invertible modulo 8"
     ]
    }
   ],
   "source": [
    "mymod_inverse(2,8)"
   ]
  },
  {
   "cell_type": "code",
   "execution_count": 22,
   "id": "3a85dae3",
   "metadata": {},
   "outputs": [
    {
     "data": {
      "text/plain": [
       "[1, 3, 5, 7]"
      ]
     },
     "execution_count": 22,
     "metadata": {},
     "output_type": "execute_result"
    }
   ],
   "source": [
    "Z8 = [x for x in range(8) if mygcd(x,8)==1]\n",
    "Z8"
   ]
  },
  {
   "cell_type": "code",
   "execution_count": 23,
   "id": "6da60bc9",
   "metadata": {},
   "outputs": [
    {
     "data": {
      "text/plain": [
       "[1, 3, 5, 7]"
      ]
     },
     "execution_count": 23,
     "metadata": {},
     "output_type": "execute_result"
    }
   ],
   "source": [
    "[mymod_inverse(x,8) for x in Z8]"
   ]
  },
  {
   "cell_type": "code",
   "execution_count": 24,
   "id": "d16b1064",
   "metadata": {},
   "outputs": [
    {
     "data": {
      "text/plain": [
       "[1, 2, 3, 4, 5, 6, 7, 8, 9, 10]"
      ]
     },
     "execution_count": 24,
     "metadata": {},
     "output_type": "execute_result"
    }
   ],
   "source": [
    "Z11 = [x for x in range(11) if mygcd(x,11)==1]\n",
    "Z11"
   ]
  },
  {
   "cell_type": "code",
   "execution_count": 25,
   "id": "ee9f5091",
   "metadata": {},
   "outputs": [
    {
     "data": {
      "text/plain": [
       "[(1, 1),\n",
       " (2, 6),\n",
       " (3, 4),\n",
       " (4, 3),\n",
       " (5, 9),\n",
       " (6, 2),\n",
       " (7, 8),\n",
       " (8, 7),\n",
       " (9, 5),\n",
       " (10, 10)]"
      ]
     },
     "execution_count": 25,
     "metadata": {},
     "output_type": "execute_result"
    }
   ],
   "source": [
    "[(x,mymod_inverse(x,11)) for x in Z11]"
   ]
  },
  {
   "cell_type": "code",
   "execution_count": 26,
   "id": "efa65914",
   "metadata": {},
   "outputs": [
    {
     "data": {
      "text/latex": [
       "$\\displaystyle 1$"
      ],
      "text/plain": [
       "1"
      ]
     },
     "execution_count": 26,
     "metadata": {},
     "output_type": "execute_result"
    }
   ],
   "source": [
    "sp.Mod(7*8,11)"
   ]
  },
  {
   "cell_type": "code",
   "execution_count": null,
   "id": "72cbd2c6",
   "metadata": {},
   "outputs": [],
   "source": []
  }
 ],
 "metadata": {
  "kernelspec": {
   "display_name": "Python 3 (ipykernel)",
   "language": "python",
   "name": "python3"
  },
  "language_info": {
   "codemirror_mode": {
    "name": "ipython",
    "version": 3
   },
   "file_extension": ".py",
   "mimetype": "text/x-python",
   "name": "python",
   "nbconvert_exporter": "python",
   "pygments_lexer": "ipython3",
   "version": "3.12.4"
  }
 },
 "nbformat": 4,
 "nbformat_minor": 5
}
