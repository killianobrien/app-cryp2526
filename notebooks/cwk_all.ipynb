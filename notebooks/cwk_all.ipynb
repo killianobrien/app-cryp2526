{
 "cells": [
  {
   "cell_type": "markdown",
   "id": "582f3596-9ea7-442f-b8a9-414a71f4e561",
   "metadata": {},
   "source": [
    "\n",
    "<h1>Department of Computing and Mathematics</h1>\n",
    "<h2>ASSESSMENT COVER SHEET 2024/25</h2>\n",
    "\n",
    "<p>\n",
    "<table>\n",
    "<thead>\n",
    "<tr class=\"header\">\n",
    "<td><strong>Module Code and Title:</strong></td>\n",
    "<td style=\"text-align:left;\">(6G6Z0024) Applied Cryptography</td>\n",
    "</tr>\n",
    "</thead>\n",
    "<tbody>\n",
    "<tr>\n",
    "<td><strong>Assessment Set By:</strong></td>\n",
    "<td style=\"text-align:left;\">Dr Killian O'Brien</td>\n",
    "</tr>\n",
    "<tr class=\"even\">\n",
    "<td><strong>Assessment ID:</strong></td>\n",
    "<td style=\"text-align:left;\">1CWK100</td>\n",
    "</tr>\n",
    "<tr class=\"odd\">\n",
    "<td><strong>Assessment Weighting:</strong></td>\n",
    "<td style=\"text-align:left;\">100%</td>\n",
    "</tr>\n",
    "<tr class=\"even\">\n",
    "<td><strong>Assessment Title</strong></td>\n",
    "<td style=\"text-align:left;\">Portfolio</td>\n",
    "</tr>\n",
    "<tr class=\"odd\">\n",
    "<td><strong>Type:</strong></td>\n",
    "<td style=\"text-align:left;\">Individual submission</td>\n",
    "</tr>\n",
    "<tr class=\"even\">\n",
    "<td><strong>Hand-In Deadline:</strong></td>\n",
    "<td style=\"text-align:left;\">Friday 17th January 2025. See submission link on Moodle.</td>\n",
    "</tr>\n",
    "<tr class=\"odd\">\n",
    "<td><strong>Hand-In Format and Mechanism:</strong></td>\n",
    "    <td style=\"text-align:left;\">Jupyer notebook <code>.ipynb</code> file submitted to <br>the 1CWK100 submission point on the module's <a href=\"https://moodle.mmu.ac.uk/course/view.php?id=183852\" target=\"_blank\">Moodle area</a>.</td>\n",
    "</tr>\n",
    "</tbody>\n",
    "</table>\n",
    "</p>\n",
    "<h3>Learning outcomes being assessed:</h3>\n",
    "<table>\n",
    "<thead>\n",
    "<tr class=\"header\">\n",
    "<th><strong>LO1</strong></th>\n",
    "<td style=\"text-align:left;\">Explain the meaning of mathematical concepts involved in cryptography, <br>calculate correctly with them and solve problems about them requiring <br>rigorous mathematical reasoning.</td>\n",
    "</tr>\n",
    "</thead>\n",
    "<tbody>\n",
    "<tr class=\"odd\">\n",
    "<td><strong>LO2</strong></td>\n",
    "<td style=\"text-align:left;\">Describe correctly the various cipher systems from the module and solve <br>problems based on them in a suitable programming environment.</td>\n",
    "</tr>\n",
    "</tbody>\n",
    "</table>\n",
    "<p><strong>Note:</strong> it is your responsibility to make sure that your work is complete and available for marking by the deadline. Make sure that you have followed the submission instructions carefully, and your work is submitted in the correct format, using the correct hand-in mechanism (e.g., Moodle upload). If submitting via Moodle, you are advised to check your work after upload, to make sure it has uploaded properly. If submitting via OneDrive, ensure that your tutors have access to the work. <u>Do not alter your work after the deadline</u>. You should make at least one full backup copy of your work.</p>\n",
    "<h3>Penalties for late submission</h3>\n",
    "<p>The timeliness of submissions is strictly monitored and enforced.</p>\n",
    "<p>All coursework has a late submission window of 7 calendar days, but any work submitted within the late window will be capped at 40%, unless you have an agreed extension. Work submitted after the 7-day late window will be capped at zero unless you have an agreed extension. See ‘Assessment Mitigation’ below for further information on extensions.</p>\n",
    "<p><strong>Please note that individual tutors are unable to grant extensions to assessments.</strong></p>\n",
    "<h3>Assessment Mitigation</h3>\n",
    "<p>If there is a valid reason why you are unable to submit your assessment by the deadline you may apply for assessment mitigation. There are two types of mitigation you can apply for via the module area on Moodle (in the ‘Assessments’ block on the right-hand side of the page):</p>\n",
    "<ul>\n",
    "<li><strong>Non-evidenced extension</strong>: does not require you to submit evidence. It allows you to add a short extension to a deadline. This is not available for event-based assessments such as in-class tests, presentations, interviews, etc. You can apply for this extension during the assessment weeks, and the request must be made before the submission deadline. For this assessment, non-evidenced extension is <strong>2 days</strong>.</li>\n",
    "<li><strong>Evidenced extensions:</strong> requires you to provide independent evidence of a situation which has impacted you. Allows you to apply for a longer extension and is available for event-based assessment such as in-class test, presentations, interviews, etc. For event-based assessments, the normal outcome is that the assessment will be deferred to the summer reassessment period.</li>\n",
    "</ul>\n",
    "\n",
    "<p>Further information about Assessment Mitigation is available on the dedicated Assessments page: <a href=\"https://www.mmu.ac.uk/student-life/course/assessments#ai-69991-0\">https://www.mmu.ac.uk/student-life/course/assessments#ai-69991-0</a></p>\n",
    "\n",
    "\n",
    "<h3>Plagiarism</h3>\n",
    "<p>Plagiarism is the unacknowledged representation of another person’s work, or use of their ideas, as one’s own. Manchester Metropolitan University takes care to detect plagiarism, employs plagiarism detection software, and imposes severe penalties, as outlined in the <a href=\"https://www.mmu.ac.uk/student-life/student-case-management/guidance-for-students/student-code-of-conduct\" target=\"_blank\">Student Code of Conduct</a> and <a href=\"https://www.mmu.ac.uk/legal/policies/misconduct-policy-24-25\" target=\"_blank\">Academic Misconduct Policy</a>. Poor referencing or submitting the wrong assignment may still be treated as plagiarism. If in doubt, seek advice from your tutor.</p>\n",
    "\n",
    "<p><strong>As part of a plagiarism check, you may be asked to attend a meeting with the Module Leader, or another member of the module delivery team, where you will be asked to explain your work (e.g. explain the code in a programming assignment). If you are called to one of these meetings, it is very important that you attend.</strong></p>\n",
    "\n",
    "### Use of generative AI\n",
    "\n",
    "The use of generative AI is permitted in this assessment, so long as it is used in accordance with the instructions provided in the ‘Are you allowed to use AI in assessments?’ section of the AI Literacy Rise Study Pack. All submitted work must be your own original content. \n",
    "\n",
    "This is the default Man Met University position, but please make sure you follow these specific instructions:\n",
    "\n",
    "* You should familiarise yourself with the contents of the <a href=\"https://rise.mmu.ac.uk/courses/ai-literacy/\" target=\"_blank\">AI Literacy Rise Study Pack</a>.\n",
    "* In particular take note of the following point from the <a href=\"https://rise.mmu.ac.uk/topic/are-you-allowed-ai-in-assessments/\" target=\"_blank\">Can generative AI be used for assessments?</a> page there:\n",
    "  - *The short answer is to use it as a tool to help you learn, not as a tool to do your assessments. We want you to feel confident using generative AI tools to help you learn. But when it comes to demonstrating that learning in your assessments, we want it to come directly from you. You are the author or creator of the assessment, so it should be your voice, your decisions, and ultimately, your work.*\n",
    "\n",
    "For any other uses of generative AI, you should also follow the instructions in the ‘Are you allowed to use AI in assessments?’ section of the <a href=\"https://rise.mmu.ac.uk/courses/ai-literacy/\" target=\"_blank\">AI Literacy Rise Study Pack</a> or speak to your tutor. All submitted work must be your own original content.\n",
    "\n",
    "\n",
    "\n",
    "<h3>If you are unable to upload your work to Moodle</h3>\n",
    "<p>If you have problems submitting your work through Moodle, you can send your work to the Assessment Management Team using the <a href=\"https://manmetuni.cherwellondemand.com/CherwellPortal/AssistDL/SAMLlogin/One-Step/DLARConSub\" target=\"_blank\">Contingency Submission Form</a>. Assessment Management will then forward your work to the appropriate person for marking. If you use this submission method, your work must be sent <strong>before the published deadline</strong>, or it will be logged as a late submission. Alternatively, you can save your work into a single zip folder then upload the zip folder to your university OneDrive and submit a Word document to Moodle which includes a link to the folder. <strong>It is your responsibility to make sure you share the OneDrive folder with the Module Leader, or it will not be possible to mark your work.</strong></p>\n",
    "<h3>Assessment Regulations</h3>\n",
    "<p>For further information see <a href=\"https://www.mmu.ac.uk/legal/policies/undergraduate-assessment-regulations-24-25\">Assessment Regulations for Undergraduate Programmes of Study</a> on the <a href=\"https://www.mmu.ac.uk/student-life/course/assessments\" target=\"_blank\">Assessments and Results information pages</a>.</p>\n",
    "<table>\n",
    "\n",
    "### Feedback and support\n",
    "\n",
    "<thead>\n",
    "<tr class=\"header\">\n",
    "<td><strong>Formative Feedback and support:</strong></td>\n",
    "<td style=\"text-align:left;\"><em>Available from the module teaching team in the weekly computer labs.</em> <br>Contact us by \n",
    "email: <br>\n",
    "    <a href=\"mailto:k.m.obrien@mmu.ac.uk\"\n",
    "                        style=\"font-weight: bold; color: rgb(0, 74, 151); text-decoration: none;\"><span\n",
    "                            style=\"text-decoration: none;\">k.m.obrien@mmu.ac.uk</span></a> or on teams: <a href=\"https://teams.microsoft.com/l/chat/0/0?users=k.m.obrien@mmu.ac.uk\"\n",
    "                            style=\"font-weight: bold; color: rgb(0, 74, 151); text-decoration: none;\"><span\n",
    "                                style=\"text-decoration: none;\"> Microsoft Teams chat</span></a><br>\n",
    "   <a href=\"mailto:safiullah.khan@mmu.ac.uk\"\n",
    "                        style=\"font-weight: bold; color: rgb(0, 74, 151); text-decoration: none;\"><span\n",
    "                            style=\"text-decoration: none;\">safiullah.khan@mmu.ac.uk</span></a> or on teams: <a href=\"https://teams.microsoft.com/l/chat/0/0?users=safiullah.khan@mmu.ac.uk\"\n",
    "                            style=\"font-weight: bold; color: rgb(0, 74, 151); text-decoration: none;\"><span\n",
    "                                style=\"text-decoration: none;\"> Microsoft Teams chat</span></a>  </td>\n",
    "</tr>\n",
    "</thead>\n",
    "<tbody>\n",
    "<tr class=\"odd\">\n",
    "<td><strong>Summative Feedback:</strong></td>\n",
    "<td style=\"text-align:left;\"><em>Marking and feedback comments on your work provided through Moodle.</em></td>\n",
    "</tr>\n",
    "</tbody>\n",
    "</table>\n",
    "\n",
    "\n",
    "<h3>Marking scheme</h3>\n",
    "\n",
    "The four courseworks you have been asked to submit will be weighted equally towards your overall mark for this module. \n",
    "\n",
    "* Number Theory questions (25%)\n",
    "* DES questions (25%)\n",
    "* AES questions (25%)\n",
    "* Public key cryptosystems questions (25%)\n",
    "\n",
    "For each individual question there are up to 10 marks awarded to the programming/technical elements and 10 marks awarded for the explanatory elements. The correctness of the technical programming and mathematical elements will be weighted to contribute 80% of the marks, while the accompanying explanatory elements will weighted to contribute 20% of the marks.\n",
    "\n",
    "The tables below shows some marking descriptors for the code/calculation and explanation elements. \n",
    "\n",
    "#### Code/calculations\n",
    "\n",
    "| Mark range |Descriptor |\n",
    "|:-----|:-----------|\n",
    "|     8 - 10 | Very clear explanation that concisely and precisely explains the code/calculations and summarises how they implement the particular system.|\n",
    "| 6 - 7 | Clear explanations of the code/calculations with some minor inaccuracies or omissions.|\n",
    "|4 - 5 | Some good explanations of the code/calculations but with significant innaccuracies or omissions.|\n",
    "|0 - 3 | Poor explanations of the code/calculations without a demonstration of understanding. |\n",
    "\n",
    "\n",
    "#### Explanations\n",
    "\n",
    "| Mark range |Descriptor |\n",
    "|:-----|:-----------|\n",
    "|     8 - 10 | Accurate code/calculations that provide the correct output/answers.|\n",
    "| 6 - 7 |Mostly accurate code/calculations that provide the correct output/asnwers with some minor inaccuracies or omissions.|\n",
    "|4 - 5 | Some good code/calculations that provide the some of the correct output/asnwers but with significant inaccuracies or omissions.|\n",
    "|0 - 3 | Code/calculations with incorrect output/answers. |\n",
    " \n",
    "\n",
    "<h3>Preparing your submission</h3>\n",
    "\n",
    "You will be submitting a single Jupyter notebook `.ipynb` file to the 1CWK100 submission point on the module's Moodle page. If you have prepared separate notebook files for different questions up to now then you should assemble these into a single notebook file for submission. Cells can be copy-and-pasted across from one notebook file to another. When pasting into the destination notebook make sure that you have selected the cell before which you want your pasted content to appear. \n",
    "\n",
    "Please answer the questions in order down your notebook file and include clear headings to indicate the different questions. \n",
    "\n"
   ]
  },
  {
   "cell_type": "markdown",
   "id": "93bd2dcc-d794-4311-8c8e-62e26b0eecc0",
   "metadata": {},
   "source": [
    "<hr>"
   ]
  },
  {
   "cell_type": "markdown",
   "id": "8023d579-822b-4080-aa8c-5e071dc9fba4",
   "metadata": {},
   "source": [
    "# Number Theory questions"
   ]
  },
  {
   "cell_type": "markdown",
   "id": "bbb30ed3-81b1-43db-91e0-7e0395b22ebb",
   "metadata": {},
   "source": [
    "### Introduction and question parameters\n",
    "\n",
    "The following questions require inputs derived from your student ID number. Let $n$ denote your 8-digit Man Met student ID number. Now let $a$ and $b$ denote the 4-digit integers formed by, respectively, the beginning and ending, four digits halves of $n$. \n",
    "\n",
    "For example, if $n = 21395495$ then it would split as $2139 \\cdot 5495$ and we would have $a=2139$ and $b=5495$. But when working on these questions make sure that you are using **your correct** values of $n$, $a$ and $b$, derived from your student id number $n$. \n"
   ]
  },
  {
   "cell_type": "markdown",
   "id": "eea5787f",
   "metadata": {},
   "source": [
    "* NT.01\n",
    "Demonstrate your understanding of the Euclidean Algorithm by performing the sequence of integer divisions with remainder that is necessary to calculate $\\gcd(a,b)$ using the Euclidean algorithm. \n",
    "\n",
    "These calculations should be done using a version of the function `mygcd`, written in lab session 01, that prints out the sequence of integer divisions. Include the code and associated ouput in your submission and provide a text cell that gives a brief summary, in your own words, of how the algorithm is working and why the number produced is the required $\\text{gcd}$ value."
   ]
  },
  {
   "cell_type": "markdown",
   "id": "66923454",
   "metadata": {},
   "source": [
    "* NT.02\n",
    "Use a code cell and an appropriate command from the `Sympy` library to determine the prime factorizations of $a$ and $b$. Use a text cell to briefly explain why the value of $\\gcd(a,b)$ you calculated in **NT.01** can be *seen* in the prime factorizations of $a$ and $b$. "
   ]
  },
  {
   "cell_type": "markdown",
   "id": "b7e127db",
   "metadata": {},
   "source": [
    "* NT.03\n",
    "Demonstrate your understading of the Extended Euclidean Algorithm by determining the values of integer coefficients $x$ and $y$ that satisfy \n",
    "$$\\gcd(a,b) = xa + yb.$$\n",
    "\n",
    "This should be done using a version of the `mygcdex` code, written in lab session 01, that implements the extended Euclidean algorithm, and an accompanying text block that demonstrates your understanding by briefly explaining in your own words, the main points of how the code works and why the output it produces are the required coefficients $x$ and $y$.\n",
    "\n"
   ]
  },
  {
   "cell_type": "markdown",
   "id": "0c6249ae",
   "metadata": {},
   "source": [
    "* NT.04 \n",
    "Use a text block to explain how to alter the definition of the Python function `mygcdex` so that it produces a different pair of coefficients $(x,y)$ from the pair produced in question NT.03, bu that still satisfies the condition\n",
    "$$\\gcd(a,b) = xa + yb.$$\n",
    "\n",
    "Then use a code block to write a Python routine that can generate any number of different coefficient pairs $(x,y)$. Demonstrate it by producing $10$ distinct such pairs that satisfy\n",
    "$$\\gcd(a,b) = xa + yb.$$"
   ]
  },
  {
   "cell_type": "markdown",
   "id": "7bd0f638",
   "metadata": {},
   "source": [
    "* NT.05\n",
    "Let $p$ be the prime number \n",
    "$$p = 113.$$\n",
    "Use the result of Fermat's Little Theorem to calculate the value of \n",
    "$$\\left ( 3^n \\, \\, \\text{mod }p \\, \\, \\right ).$$\n",
    "\n",
    "Use text cell(s) to explain your working and you may use code cell(s) to carry out any necessary calculations. You can make use of the `Mod` command from the `Sympy` library, but you should do so using inputs influenced by the application of Fermat's Little Theorem, (i.e. smaller inputs than the raw `3**n` value). \n",
    "\n",
    "You can of course make use of any call to `sympy.Mod` to confirm your work."
   ]
  },
  {
   "cell_type": "markdown",
   "id": "63668d45",
   "metadata": {},
   "source": [
    "* NT.06\n",
    "Use the method of *repeated squaring* to calculate the value of \n",
    "$$\\left ( 5^n \\, \\, \\text{mod }p \\, \\, \\right ),$$\n",
    "without any reference to Fermat's Little Theorem or Euler's Theorem.\n",
    "\n",
    "In your answer you should use code cell(s) to determine the binary representation of $n$ and to determine the necessary sequence of powers for the repeated squaring technique. \n",
    "\n",
    "Again, confirm your work with the use of any call to `sympy.Mod`, and use a text cell to briefly explain your answer."
   ]
  },
  {
   "cell_type": "markdown",
   "id": "8b288306",
   "metadata": {},
   "source": [
    "<hr>"
   ]
  },
  {
   "cell_type": "markdown",
   "id": "a1da7b29-d033-4464-94c2-6026d3c00c28",
   "metadata": {},
   "source": [
    "# Digital Encryption Standard (DES) questions"
   ]
  },
  {
   "cell_type": "markdown",
   "id": "926b8978-49f7-48fa-bc99-4f74175c78c5",
   "metadata": {},
   "source": [
    "### Introduction\n",
    "These questions are inspired by question 4.11 from Stallings. The question parts guide you through the application of a single round of the DES encryption algorithm. \n",
    "\n",
    "The algorithm is fully specified in appendix C of <a href=\"https://mmu.on.worldcat.org/oclc/1334132058\" target=\"_blank\">Stallings</a>. There you will find flowcharts and explanations of how the DES algorithm works. \n",
    "\n",
    "The numbered steps below will take you through the initial preparation of your message $m$ and key $k$, the calculation of the first sub-key $K_1$, and then the calculation of $L_1$ and $R_1$, the outputs of round 1 of DES. You are asked to maintain $m$, $k$ and the other intermediate outputs as *binary strings*, i.e. Python strings consisting made up of the characters `1` and `0`.  \n",
    "\n",
    "At the bottom of this notebook you will find Python definitions for lists defining the various transformation functions that form part of DES as described in appendix C. You are encouraged to make use of these, and suitable Python commands to answer the questions. "
   ]
  },
  {
   "cell_type": "markdown",
   "id": "e2163e75-f5d2-4d83-9783-1a0714e2e0c6",
   "metadata": {},
   "source": [
    "### Guidance\n",
    "In answering these questions, the message $m$ and key $k$ are represented as 64 bit binary strings, i.e. strings of zeros and ones that are 64 characters long. \n",
    "\n",
    "The message $m$ you will use is the 64 bit binary string representing the ASCII encoding of your 8-digit university ID number. \n",
    "\n",
    "The key $k$ you will use is the 64 bit binary string defined as\n",
    "\n",
    "    k = '0011000100110010001100110011010000110101001101100011011100111000'\n",
    "This string is the binary representation of the ASCII encoding of the string `'12345678'` which is calculated as shown in the Python block below. You should use similar commands to generate your initial message string $m$ that you will encrypt. \n",
    "\n",
    "To help you check your workings and detect any errors the final 64-bit binary string output, which is the concatenation of $L_1$ and $R_1$, for your university ID number, can be found in the table at the following link: <a href=\"https://killianobrien.github.io/app-cryp-2425/notebooks/des.html\" target=\"_blank\">encrypted ID numbers</a>."
   ]
  },
  {
   "cell_type": "code",
   "execution_count": 5,
   "id": "69343b88-fb4b-4445-85ee-404f66eb265e",
   "metadata": {},
   "outputs": [
    {
     "name": "stdout",
     "output_type": "stream",
     "text": [
      "0011000100110010001100110011010000110101001101100011011100111000\n"
     ]
    }
   ],
   "source": [
    "k = '12345678'\n",
    "\n",
    "# the command below redefines k as a list of the binary strings of the ASCII encodings of the \n",
    "# characters of the initial string k.\n",
    "# bin(ord(x)) gives the python binary string representing the ASCII encoding of \n",
    "# the character x. Slicing this from index 2 onwards removes the `0b` binary indication code\n",
    "# from the front of the string. zfill(8) fills in any leading zeros that were stripped \n",
    "# from bin(ord(x)) to give a standard 8 bit binary string.\n",
    "\n",
    "k = [bin(ord(x))[2:].zfill(8) for x in k]\n",
    "\n",
    "# the join method joins the eight 8-bit binary strings from the list k with the empty string, i.e. it \n",
    "# concatenates the eight 8-bit binary strings into a single 64-bit binary string. It does this by joining\n",
    "# each of the strings with the empty string ''.\n",
    "\n",
    "k = ''.join(x for x in k)\n",
    "print(k)"
   ]
  },
  {
   "cell_type": "markdown",
   "id": "5388c820-aa66-4302-898c-854149399166",
   "metadata": {},
   "source": [
    "#### Warning on array/string indexing\n",
    "\n",
    "<p style=\"background-color:gold;\">In the description of DES in Appendix C of the Stallings textbook, when referencing the position of a bit in a message block he uses index references beginning at 1, which is appropriate when speaking in plain English. This convention is also used in the various variables defined below that define the various transformations from Appendix C. So the left-most bit in a message block is at index 1, the next bit is at index 2 and so on. However, when referencing bit positions in binary strings in your Python commands you will need to remember that Python references positions in arrays, strings etc using indexing beginning at 0. So the leftmost bit in a binary string is at index 0, the second bit is at index 1, and so on. You will need to be careful when switching between plain language descriptions and Python code to avoid any *off-by-one* errors.</p>"
   ]
  },
  {
   "cell_type": "markdown",
   "id": "29958f1b-3254-4a89-b662-76f6d95fd4cb",
   "metadata": {},
   "source": [
    "### Questions\n",
    "\n",
    "Prepare a Jupyter notebook and for each question below define the asked for variable. **Make sure you use the exact variable names given in the questions**. For each question you should also prepare a text-cell giving a brief explanation of how you answered the question. The labelling of intermediate variables follows the notation used in figure C.2 of Stallings, pg. 769.\n",
    "\n",
    "* DES.01 Determine the $64$ bit binary string given by the ASCII encoding of your $8$-digit Man Met university ID number. Assign this string to the variable `m` in your notebook. This is your message to be encrypted. \n",
    "* DES.02 Determine the result of applying the Initial Permutation to your message $m$. Store the resulting 64 bit binary string in the variable `IPm` in your notebook.\n",
    "* DES.03 Determine the left and right halves that are the inputs to the first round. Store these 32 bit binary strings in the variables `L0` and `R0` respectively.\n",
    "* DES.04 Determine the Expansion/permutation of $R_0$ and store the resulting 48 bit binary string in the variable `ER0`.\n",
    "* DES.05 Determine the first subkey $K_1$ and store the 48 bit binary string in the variable `K1`.\n",
    "* DES.06 Determine the XOR operation on the inputs $ER_0$ and $K_1$. Store the resulting 48 bit binary string the variable `A`.\n",
    "* DES.07 Determine the result of applying the S-box substitution/choice operation to your bit string $A$. Store the resulting 32 bit binary string in the variable `SA`.\n",
    "* DES.08 Determine the result of applying the permutation function to $SA$ and store the resulting 32 bit binary string the variable `PSA`.\n",
    "* DES.09 Determine the two 32 bit binary output strings $L_1$ and $R_1$ and store these in the variables `L1` and `R1` respectively. "
   ]
  },
  {
   "cell_type": "markdown",
   "id": "72a3a777-2a13-4b30-81a6-43d9dc573171",
   "metadata": {},
   "source": [
    "### Table data, as in Appendix C of the Stallings textbook"
   ]
  },
  {
   "cell_type": "code",
   "execution_count": 6,
   "id": "bed7ad9a-e9e6-4911-adba-706c4e9a1a6e",
   "metadata": {},
   "outputs": [],
   "source": [
    "# Initial Permutation\n",
    "IP=[\n",
    "58, 50, 42, 34, 26, 18, 10, 2,\n",
    "60, 52, 44, 36, 28, 20, 12, 4,\n",
    "62, 54, 46, 38, 30, 22, 14, 6,\n",
    "64, 56, 48, 40, 32, 24, 16, 8,\n",
    "57, 49, 41, 33, 25, 17, 9, 1,\n",
    "59, 51, 43, 35, 27, 19, 11, 3,\n",
    "61, 53, 45, 37, 29, 21, 13, 5,\n",
    "63, 55, 47, 39, 31, 23, 15, 7]\n"
   ]
  },
  {
   "cell_type": "code",
   "execution_count": 7,
   "id": "0e7471ba-06b3-449c-a3b4-5621408f91de",
   "metadata": {},
   "outputs": [],
   "source": [
    "# Expansion permutation\n",
    "E = [32,1,2,3,4,5,4,5,6,7,8,9,8,9,10,11,12,13,12,13,14,15,16,17, \n",
    "16,17,18,19,20,21,20,21,22,23,24,25,24,25,26,27,28,29,28,29,30,31,32,1]"
   ]
  },
  {
   "cell_type": "code",
   "execution_count": 8,
   "id": "40c1ca74-249a-41a5-8e3f-2a9fb6a72141",
   "metadata": {},
   "outputs": [],
   "source": [
    "#S-boxes, as a list of lists\n",
    "SBOX = [\n",
    "# Box-1\n",
    "[\n",
    "[14,4,13,1,2,15,11,8,3,10,6,12,5,9,0,7],\n",
    "[0,15,7,4,14,2,13,1,10,6,12,11,9,5,3,8],\n",
    "[4,1,14,8,13,6,2,11,15,12,9,7,3,10,5,0],\n",
    "[15,12,8,2,4,9,1,7,5,11,3,14,10,0,6,13]\n",
    "],\n",
    "# Box-2\n",
    "\n",
    "[\n",
    "[15,1,8,14,6,11,3,4,9,7,2,13,12,0,5,10],\n",
    "[3,13,4,7,15,2,8,14,12,0,1,10,6,9,11,5],\n",
    "[0,14,7,11,10,4,13,1,5,8,12,6,9,3,2,15],\n",
    "[13,8,10,1,3,15,4,2,11,6,7,12,0,5,14,9]\n",
    "],\n",
    "\n",
    "# Box-3\n",
    "\n",
    "[\n",
    "[10,0,9,14,6,3,15,5,1,13,12,7,11,4,2,8],\n",
    "[13,7,0,9,3,4,6,10,2,8,5,14,12,11,15,1],\n",
    "[13,6,4,9,8,15,3,0,11,1,2,12,5,10,14,7],\n",
    "[1,10,13,0,6,9,8,7,4,15,14,3,11,5,2,12]\n",
    "\n",
    "],\n",
    "\n",
    "# Box-4\n",
    "[\n",
    "[7,13,14,3,0,6,9,10,1,2,8,5,11,12,4,15],\n",
    "[13,8,11,5,6,15,0,3,4,7,2,12,1,10,14,9],\n",
    "[10,6,9,0,12,11,7,13,15,1,3,14,5,2,8,4],\n",
    "[3,15,0,6,10,1,13,8,9,4,5,11,12,7,2,14]\n",
    "],\n",
    "\n",
    "# Box-5\n",
    "[\n",
    "[2,12,4,1,7,10,11,6,8,5,3,15,13,0,14,9],\n",
    "[14,11,2,12,4,7,13,1,5,0,15,10,3,9,8,6],\n",
    "[4,2,1,11,10,13,7,8,15,9,12,5,6,3,0,14],\n",
    "[11,8,12,7,1,14,2,13,6,15,0,9,10,4,5,3]\n",
    "],\n",
    "# Box-6\n",
    "\n",
    "[\n",
    "[12,1,10,15,9,2,6,8,0,13,3,4,14,7,5,11],\n",
    "[10,15,4,2,7,12,9,5,6,1,13,14,0,11,3,8],\n",
    "[9,14,15,5,2,8,12,3,7,0,4,10,1,13,11,6],\n",
    "[4,3,2,12,9,5,15,10,11,14,1,7,6,0,8,13]\n",
    "\n",
    "],\n",
    "# Box-7\n",
    "[\n",
    "[4,11,2,14,15,0,8,13,3,12,9,7,5,10,6,1],\n",
    "[13,0,11,7,4,9,1,10,14,3,5,12,2,15,8,6],\n",
    "[1,4,11,13,12,3,7,14,10,15,6,8,0,5,9,2],\n",
    "[6,11,13,8,1,4,10,7,9,5,0,15,14,2,3,12]\n",
    "],\n",
    "# Box-8\n",
    "\n",
    "[\n",
    "[13,2,8,4,6,15,11,1,10,9,3,14,5,0,12,7],\n",
    "[1,15,13,8,10,3,7,4,12,5,6,11,0,14,9,2],\n",
    "[7,11,4,1,9,12,14,2,0,6,10,13,15,3,5,8],\n",
    "[2,1,14,7,4,10,8,13,15,12,9,0,3,5,6,11]\n",
    "]\n",
    "\n",
    "]"
   ]
  },
  {
   "cell_type": "code",
   "execution_count": 9,
   "id": "e28b44dd-c722-4723-ab3b-02c01902f370",
   "metadata": {},
   "outputs": [],
   "source": [
    "# Permutation P\n",
    "P = [16,7,20,21,29,12,28,17,1,15,23,26,5,18,31,10,\n",
    "2,8,24,14,32,27,3,9,19,13,30,6,22,11,4,25]"
   ]
  },
  {
   "cell_type": "code",
   "execution_count": 10,
   "id": "836852d0-fb77-40af-b128-dd4665c67900",
   "metadata": {},
   "outputs": [],
   "source": [
    "# Permuted choice 1, used in key generation\n",
    "PC1 = [57,49,41,33,25,17,9,1,58,50,42,34,26,18,10,2,59,51,43,35,27,19,11,3,60,\n",
    "52,44,36,63,55,47,39,31,23,15,7,62,54,46,38,30,22,14,6,61,53,45,37,29,21,13,5,28,20,12,4]"
   ]
  },
  {
   "cell_type": "code",
   "execution_count": 11,
   "id": "e0581361-6c52-400e-bfe1-1d50a12969f6",
   "metadata": {},
   "outputs": [],
   "source": [
    "# Permuted choice 2, used in key generation\n",
    "PC2 = [14,17,11,24,1,5,3,28,15,6,21,10,23,19,12,4,26,8,16,7,27,20,13,2,41,52,\n",
    "31,37,47,55,30,40,51,45,33,48,44,49,39,56,34,53,46,42,50,36,29,32]"
   ]
  },
  {
   "cell_type": "code",
   "execution_count": 12,
   "id": "7fb48482-900b-46e1-b9a8-b515baeaf8b3",
   "metadata": {},
   "outputs": [
    {
     "data": {
      "text/plain": [
       "'1001'"
      ]
     },
     "execution_count": 12,
     "metadata": {},
     "output_type": "execute_result"
    }
   ],
   "source": [
    "# Python function for carrying out the xor of two binary strings\n",
    "\n",
    "def XOR(a,b):\n",
    "    # a and b should be binary strings of equal length\n",
    "    c = ''.join(str((int(x) + int(y))%2) for x,y in zip(a,b))\n",
    "    return c\n",
    "\n",
    "#example usage\n",
    "XOR('1100','0101')"
   ]
  },
  {
   "cell_type": "markdown",
   "id": "2eac647b",
   "metadata": {},
   "source": [
    "<hr>"
   ]
  },
  {
   "cell_type": "markdown",
   "id": "b92871d5",
   "metadata": {},
   "source": [
    "# Advanced Encryption Standard (AES) questions"
   ]
  },
  {
   "cell_type": "markdown",
   "id": "05c41cd5",
   "metadata": {},
   "source": [
    "### Introduction\n",
    "\n",
    "#### The finite field $\\text{GF}\\left (2^8 \\right )$\n",
    "\n",
    "The Advanceed Encryption Standard (AES) makes use of the field $\\text{GF}\\left (2^8 \\right )$, consisting of polynomials of degree less than or equal to 7, with binary coefficients and polynomial operations carried out modulo the irreducible polynomial \n",
    " $$m(x) = x^8 + x^4 + x^3 + x +1.$$\n",
    " \n",
    "The integers $y$ in the range $0 \\leq y \\leq 255 = 2^8 - 1$ can be represented by the elements of $\\text{GF}\\left (2^8 \\right )$ by considering the the 8 binary digits of the binary representation of $y$ to be the coefficients of the polynomial. For example, the integer $y= 201$ has the representation `11001001` as a binary string. Remember to fill with leading zeroes if necessary so the resulting string has eight characters. This string can be obtained from the output of the Python command `bin(201)`. So the polynomial corresponding to $y=201$ is given by \n",
    " $$y = 201 \\leftrightarrow x^7 + x^6 + x^3 + 1,$$\n",
    " i.e. the digits in the binary expansion of $201$, reading left to right, give the coefficients of $x^j$, for $j=7,6, \\dots 2, 1, 0$. \n",
    " \n",
    "#### Question parameters\n",
    "\n",
    "The following questions require inputs derived from your student ID number. Let $n$ denote your 8-digit Man Met student ID number. Now let $a$ and $b$ denote the 4-digit integers formed by, respectively, the left-hand and right-hand halves of $n$. \n",
    "\n",
    "For example, if $n = 21395495$ then we would have $a=2139$ and $b=5495$. But when working on these questions make sure that you are using your correct values of $n$, $a$ and $b$."
   ]
  },
  {
   "cell_type": "markdown",
   "id": "59846792",
   "metadata": {},
   "source": [
    "### Questions\n",
    "\n",
    "Let $A = (a \\, \\, \\text{mod} \\, \\, 256)$ and $B = (b \\, \\, \\text{mod} \\, \\, 256)$. Then let $P_A(x)$ and $P_B(x)$ be the polynomials corresponding to $A$ and $B$ respectively, as described in the introduction. \n",
    "\n",
    "* AES.01 Carry out the sequence of polynomial divisions with remainder of the Euclidean algorithm for polynomials, to confirm that $\\gcd(P_A(x), m(x))$ is indeed 1. \n",
    "* AES.02 Determine the product polynomial $P_A(x) \\cdot P_B(x)$, where the product is carried out with the multiplication operation of $\\text{GF}(2^8)$.\n",
    "* AES.03 Determine the polynomial $Q(x) = \\left ( P_A(x) \\right )^{-1}$, i.e. $Q(x)$ is the multiplicative inverse of $P_A(x)$ in $\\text{GF}\\left (2^8 \\right )$. The polynomial $Q(x)$ can be found from the extended Euclidean algorithm.\n",
    "\n",
    "It is not expected that you carry out these calulculations using Python code. Instead, write up your solutions of these problems using Markdown cells in the Jupyter notebook. There is no need to typeset lots of integer arithmetic. "
   ]
  },
  {
   "cell_type": "markdown",
   "id": "fa18e8c4",
   "metadata": {},
   "source": [
    "<hr>"
   ]
  },
  {
   "cell_type": "markdown",
   "id": "5729f92e",
   "metadata": {},
   "source": [
    "# Public-key cryptosystems (PKC) questions"
   ]
  },
  {
   "cell_type": "markdown",
   "id": "5f56036d",
   "metadata": {},
   "source": [
    "### Introduction\n",
    "#### Question parameters\n",
    "\n",
    "The following questions require inputs derived from your student ID number. Let $n$ denote your 8-digit Man Met student ID number. Now let $a$ and $b$ denote the 4-digit integers formed by, respectively, the left-hand and right-hand halves of $n$. \n",
    "\n",
    "For example, if $n = 21395495$ then we would have $a=2139$ and $b=5495$. But when working on these questions make sure that you are using your correct values of $n$, $a$ and $b$.\n",
    "\n",
    "#### Sympy functions\n",
    "\n",
    "Useful functions from the Sympy library for working on these problems are given below. For guidance and examples on using these functions, either quickly view the functions docstring within the Jupyter by executing `sympy.nextprime?` for example, or consult the [Sympy documentation](https://docs.sympy.org/latest/modules/ntheory.html) or other resources from [sympy.org](https://www.sympy.org/en/index.html).\n",
    "\n",
    "* `sympy.nextprime()`\n",
    "* `sp.is_primitive_root()`"
   ]
  },
  {
   "cell_type": "markdown",
   "id": "5028643d",
   "metadata": {},
   "source": [
    "### Questions\n",
    "\n",
    "**RSA** Questions 1 &mdash; 4 are about the RSA cryptosystem.\n",
    "\n",
    "* PKC.01 Let $p$ be the smallest prime satisfying $p \\geq n$ and let $q$ be the smallest prime satisfying $q \\geq (n+10^6)$. Let $m$ denote the product $m = p \\cdot q$. Determine the values `p,q,m` with the help of Sympy's `nextprime` function.\n",
    "* PKC.02 Your public key is the pair $(101,m)$. Determine your corresponding private key pair $(d,m)$. Store the relevant value in the variable `d`.\n",
    "* PKC.03 Use your public key to encrypt the message represented by your number $b$. Store the encrypted value in the variable `M`.\n",
    "* PKC.04 Finally, decrypt the encrypted message $M$ with the use of your private key and confirm that the plaintext message $b$ is recovered.\n",
    "\n",
    "For each of the parts PKC.01 &mdash; 04 include a text cell with a brief explanation of how your code implements the RSA specification. \n",
    "\n",
    "**Diffie-Hellman key exchange** Questions 5 &mdash; 7 concern the Diffie-Hellman key exchange protocol. \n",
    "\n",
    "* PKC.05 Let $p$ be defined as in Q1, i.e. the smallest prime satisfying $p \\geq n$. Determine the smallest positive integer $\\alpha$ such that $\\alpha$ is a primitive root modulo $p$. Store this in a variable `alpha`. Your code should not use the Sympy function `sympy.primitive_root()` to find the smallest primitive root. Rather you should loop through the candidates and use the function `sympy.is_primitive_root()` to test each one to find the smallest root. Yu can then use `sympy.primitive_root()` to confirm the correctness of your answer. \n",
    "* PKC.06 Alice and Bob agree to a Diffie-Hellman key exchange using the prime $p$ and primitive root $\\alpha$. Alice's private key is $X_A = a$ and Bob's private key is $X_B = b$. Determine the public keys $Y_A$ and $Y_B$ exchanged by Alice and Bob. Store these in variables `YA` and `YB`.\n",
    "* PKC.07 Determine the shared secret key $K$ that Alice and Bob can compute. Store this in a variable `K`.\n",
    "\n",
    "For each of the parts PKC.05 &mdash; 07 include a text cell with a brief explanation of how your code implements the Diffie-Hellman key exchange protocol specification. \n",
    "\n",
    "**Miller-Rabin primality test** This question is based on the Miller-Rabin probabilistic primality test. You will need to read about this test in section 2.6 of chapter 2 of the Stallings textbook. \n",
    "\n",
    "* PKC.08 Let $p$ be defined as in Q1, i.e. the smallest prime satisfying $p \\geq n$. Confirm that $p$ passes the Miller-Rabin test by carrying out the necessary computations to confirm the expected value(s) modulo $p$ of the exponential(s) with base $a$. Include a text cell with an explanation of how your code implements the Miller-Rabin technique outlined in the module. "
   ]
  },
  {
   "cell_type": "code",
   "execution_count": null,
   "id": "1819e999",
   "metadata": {},
   "outputs": [],
   "source": []
  }
 ],
 "metadata": {
  "kernelspec": {
   "display_name": "Python 3 (ipykernel)",
   "language": "python",
   "name": "python3"
  },
  "language_info": {
   "codemirror_mode": {
    "name": "ipython",
    "version": 3
   },
   "file_extension": ".py",
   "mimetype": "text/x-python",
   "name": "python",
   "nbconvert_exporter": "python",
   "pygments_lexer": "ipython3",
   "version": "3.12.4"
  }
 },
 "nbformat": 4,
 "nbformat_minor": 5
}
