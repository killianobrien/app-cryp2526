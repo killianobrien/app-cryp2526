{
 "cells": [
  {
   "cell_type": "markdown",
   "id": "3befdaba-a697-40a7-b711-37704fd72d39",
   "metadata": {},
   "source": [
    "# Week 07 Lab\n",
    "## Applied Cryptography (6G6Z0024)\n",
    "## Killian O'Brien\n",
    "### Lab exercises solutions"
   ]
  },
  {
   "cell_type": "code",
   "execution_count": 1,
   "id": "97cf1155-09f8-4903-a7d4-81db0cda1b7d",
   "metadata": {},
   "outputs": [],
   "source": [
    "import sympy as sp"
   ]
  },
  {
   "cell_type": "markdown",
   "id": "4185a28c-59cd-4e4b-8ba7-09d972d21085",
   "metadata": {},
   "source": [
    "#### Q9.2 a."
   ]
  },
  {
   "cell_type": "markdown",
   "id": "6be96326-8899-43d4-aa4d-20e54f34db5a",
   "metadata": {},
   "source": [
    "Define the parameters given in the question"
   ]
  },
  {
   "cell_type": "code",
   "execution_count": 2,
   "id": "ca4191ca-1ddc-43fe-8f55-40d17aaa7a5e",
   "metadata": {},
   "outputs": [
    {
     "data": {
      "text/plain": [
       "(3, 7, 5, 10)"
      ]
     },
     "execution_count": 2,
     "metadata": {},
     "output_type": "execute_result"
    }
   ],
   "source": [
    "p,q,e,M = 3,7,5,10\n",
    "p,q,e,M"
   ]
  },
  {
   "cell_type": "markdown",
   "id": "a1050b4c-960c-45b6-a86e-9f94b7a1fb93",
   "metadata": {},
   "source": [
    "The modulus, $n$, for the system is given by "
   ]
  },
  {
   "cell_type": "code",
   "execution_count": 3,
   "id": "21830e37-90b1-41b5-825a-80ca587cf2c3",
   "metadata": {},
   "outputs": [
    {
     "data": {
      "text/plain": [
       "21"
      ]
     },
     "execution_count": 3,
     "metadata": {},
     "output_type": "execute_result"
    }
   ],
   "source": [
    "n = p*q\n",
    "n"
   ]
  },
  {
   "cell_type": "markdown",
   "id": "a8e642f9-81cc-4a26-9e8a-3273e6752221",
   "metadata": {},
   "source": [
    "The Euler totient function value $\\phi(n)$ is given by "
   ]
  },
  {
   "cell_type": "code",
   "execution_count": 4,
   "id": "eca6ef1e-6bee-48cc-a727-8a754a115749",
   "metadata": {},
   "outputs": [
    {
     "data": {
      "text/plain": [
       "12"
      ]
     },
     "execution_count": 4,
     "metadata": {},
     "output_type": "execute_result"
    }
   ],
   "source": [
    "phi_n = (p-1)*(q-1)\n",
    "phi_n"
   ]
  },
  {
   "cell_type": "markdown",
   "id": "dba5b495-e35b-4b65-bc5b-5f83c2f1b37e",
   "metadata": {},
   "source": [
    "The private key, $d$, will be the multiplicative invers of $e$ modulo $\\phi(n)$, and can be found from the extended Euclidean algorithm for calculating $\\gcd(e,\\phi(n)) = 1$. "
   ]
  },
  {
   "cell_type": "code",
   "execution_count": 5,
   "id": "7fd5a98d-5fb9-46d4-a6ba-c187dc9db0e8",
   "metadata": {},
   "outputs": [
    {
     "data": {
      "text/plain": [
       "(5, -2, 1)"
      ]
     },
     "execution_count": 5,
     "metadata": {},
     "output_type": "execute_result"
    }
   ],
   "source": [
    "s = sp.gcdex(e,phi_n)\n",
    "s"
   ]
  },
  {
   "cell_type": "code",
   "execution_count": 6,
   "id": "a8962265-e64b-4c13-876f-7b3b9de96631",
   "metadata": {},
   "outputs": [
    {
     "data": {
      "text/latex": [
       "$\\displaystyle 5$"
      ],
      "text/plain": [
       "5"
      ]
     },
     "execution_count": 6,
     "metadata": {},
     "output_type": "execute_result"
    }
   ],
   "source": [
    "d = s[0]\n",
    "d"
   ]
  },
  {
   "cell_type": "markdown",
   "id": "4b8e9be2-87f9-48ec-a3c5-1730138dc859",
   "metadata": {},
   "source": [
    "Let's test out the relationship of the pair $e,d$,"
   ]
  },
  {
   "cell_type": "code",
   "execution_count": 7,
   "id": "8b5f17b2-42c4-4b48-a47d-34555f550ec4",
   "metadata": {},
   "outputs": [
    {
     "data": {
      "text/latex": [
       "$\\displaystyle 1$"
      ],
      "text/plain": [
       "1"
      ]
     },
     "execution_count": 7,
     "metadata": {},
     "output_type": "execute_result"
    }
   ],
   "source": [
    "sp.Mod(e*d,phi_n)"
   ]
  },
  {
   "cell_type": "markdown",
   "id": "b9fee3cb-7342-4ec0-acf8-2f565c68ae33",
   "metadata": {},
   "source": [
    "The message $M$ is encrypted to the ciphertext $C$ as follows"
   ]
  },
  {
   "cell_type": "code",
   "execution_count": 8,
   "id": "0ba770b6-0a71-49cf-ba24-bcd28dc9c943",
   "metadata": {},
   "outputs": [
    {
     "data": {
      "text/latex": [
       "$\\displaystyle 19$"
      ],
      "text/plain": [
       "19"
      ]
     },
     "execution_count": 8,
     "metadata": {},
     "output_type": "execute_result"
    }
   ],
   "source": [
    "C = sp.Mod(M**e,n)\n",
    "C"
   ]
  },
  {
   "cell_type": "markdown",
   "id": "25f7625f-4fe4-4dab-8475-75e7a24fd03f",
   "metadata": {},
   "source": [
    "Then this ciphertext is decrypted back to the plaintext $M=10$ by calculating $C^d \\pmod{n}$."
   ]
  },
  {
   "cell_type": "code",
   "execution_count": 9,
   "id": "706004e9-7d7d-49bc-9059-b226f6bba09a",
   "metadata": {},
   "outputs": [
    {
     "data": {
      "text/latex": [
       "$\\displaystyle 10$"
      ],
      "text/plain": [
       "10"
      ]
     },
     "execution_count": 9,
     "metadata": {},
     "output_type": "execute_result"
    }
   ],
   "source": [
    "sp.Mod(C**d,n)"
   ]
  },
  {
   "cell_type": "markdown",
   "id": "71ad1601-e29f-4e18-ba2c-ac1c383eeb75",
   "metadata": {},
   "source": [
    "#### Q9.2 b."
   ]
  },
  {
   "cell_type": "markdown",
   "id": "e64d0cfb-d980-445d-a7fd-e259d727172e",
   "metadata": {},
   "source": [
    "Similar narrative as in the previous question. Just showing the calculated values here:"
   ]
  },
  {
   "cell_type": "code",
   "execution_count": 10,
   "id": "7d249156-dfd1-432b-aceb-8053c903e9e4",
   "metadata": {},
   "outputs": [
    {
     "data": {
      "text/plain": [
       "(7, 17, 11, 11)"
      ]
     },
     "execution_count": 10,
     "metadata": {},
     "output_type": "execute_result"
    }
   ],
   "source": [
    "p,q,e,M = 7,17,11,11\n",
    "p,q,e,M"
   ]
  },
  {
   "cell_type": "code",
   "execution_count": 11,
   "id": "6f9666ad-112b-4afe-9a55-517679ee64a2",
   "metadata": {},
   "outputs": [
    {
     "data": {
      "text/plain": [
       "(119, 96)"
      ]
     },
     "execution_count": 11,
     "metadata": {},
     "output_type": "execute_result"
    }
   ],
   "source": [
    "n = p*q\n",
    "phi_n = (p-1)*(q-1)\n",
    "n,phi_n"
   ]
  },
  {
   "cell_type": "code",
   "execution_count": 12,
   "id": "4a56b7f9-50b6-4b07-aa38-275519a0b36e",
   "metadata": {},
   "outputs": [
    {
     "data": {
      "text/latex": [
       "$\\displaystyle 35$"
      ],
      "text/plain": [
       "35"
      ]
     },
     "execution_count": 12,
     "metadata": {},
     "output_type": "execute_result"
    }
   ],
   "source": [
    "s = sp.gcdex(e,phi_n)\n",
    "d=s[0]\n",
    "d"
   ]
  },
  {
   "cell_type": "code",
   "execution_count": 13,
   "id": "85696bc9-2c8d-47f9-b107-2667049aaf78",
   "metadata": {},
   "outputs": [
    {
     "data": {
      "text/latex": [
       "$\\displaystyle 114$"
      ],
      "text/plain": [
       "114"
      ]
     },
     "execution_count": 13,
     "metadata": {},
     "output_type": "execute_result"
    }
   ],
   "source": [
    "C = sp.Mod(M**e,n)\n",
    "C"
   ]
  },
  {
   "cell_type": "code",
   "execution_count": 14,
   "id": "1ef9f32d-2704-4048-a202-f67f491cefd3",
   "metadata": {},
   "outputs": [
    {
     "data": {
      "text/latex": [
       "$\\displaystyle 11$"
      ],
      "text/plain": [
       "11"
      ]
     },
     "execution_count": 14,
     "metadata": {},
     "output_type": "execute_result"
    }
   ],
   "source": [
    "sp.Mod(C**d,n)"
   ]
  },
  {
   "cell_type": "markdown",
   "id": "b6c8f7f1-98d2-4589-83c9-281574521012",
   "metadata": {},
   "source": [
    "#### Q9.3"
   ]
  },
  {
   "cell_type": "code",
   "execution_count": 15,
   "id": "38de8a5b-8d61-4072-92f7-9e2fff1ceaa6",
   "metadata": {},
   "outputs": [
    {
     "data": {
      "text/plain": [
       "(20, 13, 77)"
      ]
     },
     "execution_count": 15,
     "metadata": {},
     "output_type": "execute_result"
    }
   ],
   "source": [
    "C,e,n = 20, 13, 77\n",
    "C,e,n"
   ]
  },
  {
   "cell_type": "markdown",
   "id": "62fcb876-2c5a-4371-bbe6-cd223734c36e",
   "metadata": {},
   "source": [
    "The prime factorisation of $n$ is $n = 7 \\cdot 11$. So we have $p=7$, $q=11$. "
   ]
  },
  {
   "cell_type": "code",
   "execution_count": 16,
   "id": "c9120980-e23a-42de-91a9-42b3c0cec929",
   "metadata": {},
   "outputs": [
    {
     "data": {
      "text/plain": [
       "(7, 11, 60)"
      ]
     },
     "execution_count": 16,
     "metadata": {},
     "output_type": "execute_result"
    }
   ],
   "source": [
    "p,q=7,11\n",
    "phi_n = (p-1)*(q-1)\n",
    "p,q,phi_n"
   ]
  },
  {
   "cell_type": "markdown",
   "id": "cdc93d8a-8734-40be-90e9-7b4230f9a027",
   "metadata": {},
   "source": [
    "So the private key $d$ is the multiplicative inverse of $e$ modulo $60$. Find this with the extended Euclidean algorithm"
   ]
  },
  {
   "cell_type": "code",
   "execution_count": 17,
   "id": "bfa52657-abd9-4c69-bf91-c56df343d4d4",
   "metadata": {},
   "outputs": [
    {
     "data": {
      "text/latex": [
       "$\\displaystyle -23$"
      ],
      "text/plain": [
       "-23"
      ]
     },
     "execution_count": 17,
     "metadata": {},
     "output_type": "execute_result"
    }
   ],
   "source": [
    "s = sp.gcdex(e,phi_n)\n",
    "d = s[0]\n",
    "d"
   ]
  },
  {
   "cell_type": "markdown",
   "id": "b8f8e685-6d06-4835-a242-df37cc90c170",
   "metadata": {},
   "source": []
  },
  {
   "cell_type": "markdown",
   "id": "786cf673-50ca-45ce-8355-b3f98c51d714",
   "metadata": {},
   "source": [
    "But then reduce this modulo $60$ to get "
   ]
  },
  {
   "cell_type": "code",
   "execution_count": 18,
   "id": "8971d795-0935-48fb-9617-c3f985ce0b49",
   "metadata": {},
   "outputs": [
    {
     "data": {
      "text/latex": [
       "$\\displaystyle 37$"
      ],
      "text/plain": [
       "37"
      ]
     },
     "execution_count": 18,
     "metadata": {},
     "output_type": "execute_result"
    }
   ],
   "source": [
    "d = sp.Mod(d,phi_n)\n",
    "d"
   ]
  },
  {
   "cell_type": "markdown",
   "id": "73b689ae-4596-46ec-85f4-0d79640a89e1",
   "metadata": {},
   "source": [
    "Then the plaintext $M$ is obtained by decrypting $C$ using this private key."
   ]
  },
  {
   "cell_type": "code",
   "execution_count": 19,
   "id": "7426bc02-fc35-416f-ab9b-d89d8687595a",
   "metadata": {},
   "outputs": [
    {
     "data": {
      "text/latex": [
       "$\\displaystyle 1$"
      ],
      "text/plain": [
       "1"
      ]
     },
     "execution_count": 19,
     "metadata": {},
     "output_type": "execute_result"
    }
   ],
   "source": [
    "M = sp.gcd(C**d,n)\n",
    "M"
   ]
  },
  {
   "cell_type": "markdown",
   "id": "a1a76e86-60a3-4d40-996a-f4a0f971e95e",
   "metadata": {},
   "source": [
    "So the original plain-text message was $M = 1$."
   ]
  },
  {
   "cell_type": "markdown",
   "id": "ce9e3f30-1dbb-48a9-a4c4-919751973c5b",
   "metadata": {},
   "source": [
    "#### Q9.4"
   ]
  },
  {
   "cell_type": "code",
   "execution_count": 20,
   "id": "30fb22d1-73c7-4c4a-a7ef-db5a02c080b6",
   "metadata": {},
   "outputs": [
    {
     "data": {
      "text/plain": [
       "(65, 2881)"
      ]
     },
     "execution_count": 20,
     "metadata": {},
     "output_type": "execute_result"
    }
   ],
   "source": [
    "e,n = 65, 2881\n",
    "e,n"
   ]
  },
  {
   "cell_type": "markdown",
   "id": "a6a46dd5-9cf4-41fe-827f-45d280a5a5fe",
   "metadata": {},
   "source": [
    "Assuming that $n = p \\cdot q$ for some pair of primes $p,q$ we can find them by trial division using the set of primes up to $\\sqrt{n}$."
   ]
  },
  {
   "cell_type": "code",
   "execution_count": 21,
   "id": "846c6e55-22dc-4c20-afdd-497e71469867",
   "metadata": {},
   "outputs": [
    {
     "data": {
      "text/plain": [
       "<generator object primerange at 0x7f057413af60>"
      ]
     },
     "execution_count": 21,
     "metadata": {},
     "output_type": "execute_result"
    }
   ],
   "source": [
    "L = sp.primerange(1,sp.sqrt(n))\n",
    "L"
   ]
  },
  {
   "cell_type": "code",
   "execution_count": 22,
   "id": "72a7d49c-6776-47b4-ace1-09b64bc86b5f",
   "metadata": {},
   "outputs": [
    {
     "data": {
      "text/plain": [
       "(43, 67, 2881)"
      ]
     },
     "execution_count": 22,
     "metadata": {},
     "output_type": "execute_result"
    }
   ],
   "source": [
    "for p in L:\n",
    "    if sp.Mod(n,p) == 0: # this condition is true if p divides n\n",
    "        q = n//p\n",
    "        break\n",
    "p,q,p*q"
   ]
  },
  {
   "cell_type": "markdown",
   "id": "1b7e1434-98ab-45fa-a82f-14b8a71aaf4d",
   "metadata": {},
   "source": [
    "Then the Euler totient function value $\\phi(n)$ is given by $\\phi(n) = (p-1)\\cdot(q-1)$"
   ]
  },
  {
   "cell_type": "code",
   "execution_count": 23,
   "id": "7c626482-2dca-4f80-8828-6aa85dab792a",
   "metadata": {},
   "outputs": [
    {
     "data": {
      "text/plain": [
       "2772"
      ]
     },
     "execution_count": 23,
     "metadata": {},
     "output_type": "execute_result"
    }
   ],
   "source": [
    "phi_n = (p-1)*(q-1)\n",
    "phi_n"
   ]
  },
  {
   "cell_type": "markdown",
   "id": "ebc0ad8c-77b8-4564-9699-e2cf486ae513",
   "metadata": {},
   "source": [
    "Then the private key $d$ will be the multiplcative inverse of $e$ modulo $\\phi(n)$"
   ]
  },
  {
   "cell_type": "code",
   "execution_count": 24,
   "id": "b193d81a-faa9-44c0-b549-f87cef897e7f",
   "metadata": {},
   "outputs": [
    {
     "data": {
      "text/plain": [
       "(725, -17, 1)"
      ]
     },
     "execution_count": 24,
     "metadata": {},
     "output_type": "execute_result"
    }
   ],
   "source": [
    "s = sp.gcdex(e,phi_n)\n",
    "s"
   ]
  },
  {
   "cell_type": "code",
   "execution_count": 25,
   "id": "9e9e5c7e-5451-4bf0-ab19-0d31f69bb06c",
   "metadata": {},
   "outputs": [
    {
     "data": {
      "text/latex": [
       "$\\displaystyle 725$"
      ],
      "text/plain": [
       "725"
      ]
     },
     "execution_count": 25,
     "metadata": {},
     "output_type": "execute_result"
    }
   ],
   "source": [
    "d=s[0]\n",
    "d"
   ]
  },
  {
   "cell_type": "markdown",
   "id": "7349669b-2ea3-4858-8112-282c917c2de3",
   "metadata": {},
   "source": [
    "So the associated private key is $d = 725$."
   ]
  },
  {
   "cell_type": "markdown",
   "id": "00c993bd-b6f4-4818-bb7c-6441d252c313",
   "metadata": {},
   "source": [
    "Note that instead we could have used Sympy's `factorint` command to factor $n$ directly as"
   ]
  },
  {
   "cell_type": "code",
   "execution_count": 26,
   "id": "225aaa22-4f5b-46cf-ba33-3287de32fead",
   "metadata": {},
   "outputs": [
    {
     "data": {
      "text/plain": [
       "{43: 1, 67: 1}"
      ]
     },
     "execution_count": 26,
     "metadata": {},
     "output_type": "execute_result"
    }
   ],
   "source": [
    "sp.factorint(n)"
   ]
  },
  {
   "cell_type": "markdown",
   "id": "5e0a8888-81ae-4634-ab9d-2b986074acf8",
   "metadata": {},
   "source": [
    "Of course, note that a suitably large $n$, this `factorint` command will probably be of no practical use. Let's try such a large $N$ and see"
   ]
  },
  {
   "cell_type": "code",
   "execution_count": 27,
   "id": "cfb56982-b027-4025-a107-a4287507efd9",
   "metadata": {},
   "outputs": [
    {
     "data": {
      "text/plain": [
       "1000000000000000000000000000000000000000000000000000000000000000000000000000000000000000000000000000000000000000000000000000000000000000000000000000000000000000000000000000000000000000000000000000000000000000000000000000000000000000000000000000000000000000000000000000000000027386487263485762398475711"
      ]
     },
     "execution_count": 27,
     "metadata": {},
     "output_type": "execute_result"
    }
   ],
   "source": [
    "N = 10**(300) + 27386487263485762398475711\n",
    "N"
   ]
  },
  {
   "cell_type": "markdown",
   "id": "450acbf8-c8bc-488d-b311-fc5b8e069483",
   "metadata": {},
   "source": [
    "I let this command run for about 10 minutes, but it could not find any factors within that time. Who knows when it might return any factors .... If you do execute this command on your computer. You can interrupt the kernel to stop the coomputation using the Kernel menu above. "
   ]
  },
  {
   "cell_type": "code",
   "execution_count": 28,
   "id": "14006484-1fdb-4395-9a94-84b380e9e79b",
   "metadata": {},
   "outputs": [
    {
     "name": "stdout",
     "output_type": "stream",
     "text": [
      "Factoring 10000..(291 other digits)..75711\n",
      "Trial division with ints [2 ... 32768] and fail_max=600\n",
      "Check for termination\n",
      "Trial division with primes [1805 ... 3610]\n",
      "Pollard's p-1 with smoothness bound 1805 and seed 3610\n",
      "Pollard's rho with retries 1, max_steps 1805 and seed 3610\n",
      "Trial division with primes [3610 ... 7220]\n",
      "Pollard's p-1 with smoothness bound 3610 and seed 7220\n",
      "Pollard's rho with retries 1, max_steps 3610 and seed 7220\n",
      "Trial division with primes [7220 ... 14440]\n",
      "Pollard's p-1 with smoothness bound 7220 and seed 14440\n",
      "Pollard's rho with retries 1, max_steps 7220 and seed 14440\n",
      "Elliptic Curve with B1 bound 10000, B2 bound 1000000, num_curves 50\n"
     ]
    },
    {
     "ename": "KeyboardInterrupt",
     "evalue": "",
     "output_type": "error",
     "traceback": [
      "\u001b[0;31m---------------------------------------------------------------------------\u001b[0m",
      "\u001b[0;31mKeyboardInterrupt\u001b[0m                         Traceback (most recent call last)",
      "Cell \u001b[0;32mIn[28], line 1\u001b[0m\n\u001b[0;32m----> 1\u001b[0m \u001b[43msp\u001b[49m\u001b[38;5;241;43m.\u001b[39;49m\u001b[43mfactorint\u001b[49m\u001b[43m(\u001b[49m\u001b[43mN\u001b[49m\u001b[43m,\u001b[49m\u001b[43m \u001b[49m\u001b[43mverbose\u001b[49m\u001b[38;5;241;43m=\u001b[39;49m\u001b[38;5;28;43;01mTrue\u001b[39;49;00m\u001b[43m)\u001b[49m \u001b[38;5;66;03m# verbose=True print status messages about the calculation\u001b[39;00m\n",
      "File \u001b[0;32m~/sage/local/var/lib/sage/venv-python3.12.4/lib/python3.12/site-packages/sympy/ntheory/factor_.py:1438\u001b[0m, in \u001b[0;36mfactorint\u001b[0;34m(n, limit, use_trial, use_rho, use_pm1, use_ecm, verbose, visual, multiple)\u001b[0m\n\u001b[1;32m   1436\u001b[0m \u001b[38;5;28;01mwhile\u001b[39;00m(\u001b[38;5;241m1\u001b[39m):\n\u001b[1;32m   1437\u001b[0m     \u001b[38;5;28;01mtry\u001b[39;00m:\n\u001b[0;32m-> 1438\u001b[0m         factor \u001b[38;5;241m=\u001b[39m \u001b[43m_ecm_one_factor\u001b[49m\u001b[43m(\u001b[49m\u001b[43mn\u001b[49m\u001b[43m,\u001b[49m\u001b[43m \u001b[49m\u001b[43mB1\u001b[49m\u001b[43m,\u001b[49m\u001b[43m \u001b[49m\u001b[43mB2\u001b[49m\u001b[43m,\u001b[49m\u001b[43m \u001b[49m\u001b[43mnum_curves\u001b[49m\u001b[43m)\u001b[49m\n\u001b[1;32m   1439\u001b[0m         ps \u001b[38;5;241m=\u001b[39m factorint(factor, limit\u001b[38;5;241m=\u001b[39mlimit \u001b[38;5;241m-\u001b[39m \u001b[38;5;241m1\u001b[39m,\n\u001b[1;32m   1440\u001b[0m                        use_trial\u001b[38;5;241m=\u001b[39muse_trial,\n\u001b[1;32m   1441\u001b[0m                        use_rho\u001b[38;5;241m=\u001b[39muse_rho,\n\u001b[1;32m   1442\u001b[0m                        use_pm1\u001b[38;5;241m=\u001b[39muse_pm1,\n\u001b[1;32m   1443\u001b[0m                        use_ecm\u001b[38;5;241m=\u001b[39muse_ecm,\n\u001b[1;32m   1444\u001b[0m                        verbose\u001b[38;5;241m=\u001b[39mverbose)\n\u001b[1;32m   1445\u001b[0m         n, _ \u001b[38;5;241m=\u001b[39m _trial(factors, n, ps, verbose\u001b[38;5;241m=\u001b[39m\u001b[38;5;28;01mFalse\u001b[39;00m)\n",
      "File \u001b[0;32m~/sage/local/var/lib/sage/venv-python3.12.4/lib/python3.12/site-packages/sympy/ntheory/ecm.py:267\u001b[0m, in \u001b[0;36m_ecm_one_factor\u001b[0;34m(n, B1, B2, max_curve)\u001b[0m\n\u001b[1;32m    263\u001b[0m     \u001b[38;5;66;03m# We want to calculate\u001b[39;00m\n\u001b[1;32m    264\u001b[0m     \u001b[38;5;66;03m# f = R.x_cord * S[delta].z_cord - S[delta].x_cord * R.z_cord\u001b[39;00m\n\u001b[1;32m    265\u001b[0m     f \u001b[38;5;241m=\u001b[39m (R\u001b[38;5;241m.\u001b[39mx_cord \u001b[38;5;241m-\u001b[39m S[delta]\u001b[38;5;241m.\u001b[39mx_cord)\u001b[38;5;241m*\u001b[39m\\\n\u001b[1;32m    266\u001b[0m         (R\u001b[38;5;241m.\u001b[39mz_cord \u001b[38;5;241m+\u001b[39m S[delta]\u001b[38;5;241m.\u001b[39mz_cord) \u001b[38;5;241m-\u001b[39m alpha \u001b[38;5;241m+\u001b[39m beta[delta]\n\u001b[0;32m--> 267\u001b[0m     g \u001b[38;5;241m=\u001b[39m (\u001b[43mg\u001b[49m\u001b[38;5;241;43m*\u001b[39;49m\u001b[43mf\u001b[49m) \u001b[38;5;241m%\u001b[39m n\n\u001b[1;32m    268\u001b[0m \u001b[38;5;66;03m#Swap\u001b[39;00m\n\u001b[1;32m    269\u001b[0m T, R \u001b[38;5;241m=\u001b[39m R, R\u001b[38;5;241m.\u001b[39madd(S[D], T)\n",
      "\u001b[0;31mKeyboardInterrupt\u001b[0m: "
     ]
    }
   ],
   "source": [
    "sp.factorint(N, verbose=True) # verbose=True print status messages about the calculation"
   ]
  },
  {
   "cell_type": "code",
   "execution_count": null,
   "id": "ac3e00e2-817e-4728-869a-dc7b4ba15c7e",
   "metadata": {},
   "outputs": [],
   "source": []
  }
 ],
 "metadata": {
  "kernelspec": {
   "display_name": "Python 3 (ipykernel)",
   "language": "python",
   "name": "python3"
  },
  "language_info": {
   "codemirror_mode": {
    "name": "ipython",
    "version": 3
   },
   "file_extension": ".py",
   "mimetype": "text/x-python",
   "name": "python",
   "nbconvert_exporter": "python",
   "pygments_lexer": "ipython3",
   "version": "3.12.4"
  }
 },
 "nbformat": 4,
 "nbformat_minor": 5
}
