{
 "cells": [
  {
   "cell_type": "markdown",
   "id": "1d74c4de-41d1-466e-8b18-397e0e6c3bf6",
   "metadata": {},
   "source": [
    "# Week 01 lab 6G6Z0024 Applied Cryptography\n",
    "\n",
    "## The lab session \n",
    "\n",
    "* If necessary, we will discuss any remaining material from the lecture.\n",
    "* Then we can discuss any questions or queries from the lecture.\n",
    "* Then we can work on the programming and mathematical tasks below to consolidate and further our understanding of the topics from the lecture.\n",
    "\n",
    "## Tasks\n",
    "\n",
    "We will work with the language Python in a Jupyter notebook since this allows us to easily assemble block of code and associated output, redit our commands and annotate them nicely with typset text paragraphs. \n",
    "\n",
    "* Search for and launch the `Jupyter` notebook server from the PC's Start menu and follow the steps below.\n",
    "    - This will start up a local service on your PC and eventually, after maybe some moments, it will open the Jupyter Notebook web app in the web browser.\n",
    "    - From here we can navigate the File System and open new Jupyter Notebooks.\n",
    "    - In the File Browser view of the Jupyter server, navigate into your OneDrive folder, and create a new folder to hold your notebooks that you generate on this unit.\n",
    "    - **Make sure you are saving your work in a secure location such as this. Notebooks that are only saved locally on your PC here might well be lost when you log out.**\n",
    "    - You could create a new test notebook in this folder. Choose the offered Python kernel. The kernel is the programming language service that runs the code cells within the notebook and returns the output for the notebook to display.\n",
    "    - Download this notebook, `Lab01.ipynb` from the unit's Moodle area, save it in your new notebook folder, and open it from your Jupyter Notebook file browser so that you can work within this for the rest of the lab.\n",
    "\n",
    "Within a Jupyter notebook there are two types of cells: \n",
    "* **Code cells**, which will contain Python code. When these cells are selected and highlighted (with the keybopard shortcut SHIFT+ENTER) the kernel executes them and passes the output back to the notebook for display.\n",
    "* **Markdown cells**, these will contain Markdown text, a simplified way of writing basic HTML markup. Or they may contian basic HTML markup code too. When these cells are executed the browser will process the markdown/html, hide the cell, and in its place display the formatted output. To re-edit the Markdown cell, double-click the formatted text to reveal the raw markdown/html cell which can then be edited.\n",
    "* The type of the cell can be changed by selecting from the short drop-down menu in the toolbar above.\n",
    "\n",
    "#### Useful keyboard shortcuts for navigating your notebook\n",
    "* `SHIFT+ENTER` executes a cell.\n",
    "* When the cursor is live within a cell you are editing that cell. Pressing `ESC` then will remove the cursor from the cell but keep the cell highlighted. Now there are a few useful keyboard shortcuts that can be used.\n",
    "    - `Y` changes the cell to a code cell.\n",
    "    - `M` changes the cell to a Markdown/HTML cell.\n",
    "    - `a` opens a new cell above the selected cell.\n",
    "    - `b` opens a new cell below the selected cell.\n",
    "    - `dd` deletes the cell.\n",
    "\n",
    "#### More sources of information\n",
    "* The [Jupyter documentation](https://jupyter-notebook.readthedocs.io/en/latest/user-documentation.html)\n",
    "* Homepage of the [Jupyter project](https://jupyter.org/)\n",
    "* Homepage of the [Python project](https://www.python.org/)\n",
    "\n",
    "## Getting into some number theory\n",
    "\n",
    "* The [Sympy](https://www.sympy.org/en/index.html) library is a Python library for symbolic mathematics and provides some commands we will make use of. You can read more about Sympy and consult the documentation at the above link.\n",
    "  \n",
    "```\n",
    "import sympy as sp\n",
    "```\n",
    "\n",
    "Sympy has an inbuilt `gcd` command\n",
    "```\n",
    "sp.gcd(10,8)\n",
    "```\n",
    "\n",
    "* Try out these two commands in the code cells below. With a code cell selected (i.e. highlighted or with the cursor in it) it can be executed with the keyboard shortcut SHIFT+ENTER\n",
    "* Note the `import` statement produces no output\n",
    "* Try some different values in the `sp.gcd` command"
   ]
  },
  {
   "cell_type": "code",
   "execution_count": 1,
   "id": "690c3717-3d32-48c4-bc5b-5a2b6ca62a98",
   "metadata": {},
   "outputs": [],
   "source": [
    "import sympy as sp"
   ]
  },
  {
   "cell_type": "code",
   "execution_count": 2,
   "id": "4bac48f9-6ffc-4bbe-af37-e835534ced3d",
   "metadata": {},
   "outputs": [
    {
     "data": {
      "text/latex": [
       "$\\displaystyle 2$"
      ],
      "text/plain": [
       "2"
      ]
     },
     "execution_count": 2,
     "metadata": {},
     "output_type": "execute_result"
    }
   ],
   "source": [
    "sp.gcd(10,8)"
   ]
  },
  {
   "cell_type": "markdown",
   "id": "fb00c597-1032-444e-b267-1e5f19fac2ec",
   "metadata": {},
   "source": [
    "### Q1. Implementing the Euclidean algorithm\n",
    "\n",
    "Let's write our own implementation of the Euclidean algorithm. There are a few ways to approach this. One way is to use the principle of *recursion* and exploit the relationship that \n",
    "$$\\gcd(a,n) = \\gcd(n,r)$$\n",
    "whenever \n",
    "$$a = qn + r.$$\n",
    "\n",
    "\n",
    "So we could write our python function using the structure\n",
    "```\n",
    "def mygcd(a,b):\n",
    "    if b==0:\n",
    "        return a\n",
    "    else:\n",
    "        q = ?\n",
    "        r = ?\n",
    "        return mygcd(b,r)\n",
    "```\n",
    "* Note the check to return `gcd(x,0)=x` when we have reached the *last* integer division. Note the use of recursion where we basically define the `mygcd` function by returing another call to `mygcd`."
   ]
  },
  {
   "cell_type": "markdown",
   "id": "bb38132b-7b6b-4de2-94b8-c94b9c3f4c84",
   "metadata": {},
   "source": [
    "**Tasks**\n",
    "\n",
    "1. Complete the model code above, by replacing the `?`s, to obtain a working function `mygcd`. Test that it is working correctly on small arguments. Compare its output with `sp.gcd` for some large arguments.\n",
    "\n",
    "2. What other checks/cases should you use like the `if b==0` one, in order for your function to work with all valid inputs? How should your function treat any negative arguments?\n",
    "\n",
    "2. Write another version that does not rely on function recursion. You can do this with a suitable `while` loop for instance. \n"
   ]
  },
  {
   "cell_type": "markdown",
   "id": "826a3888-0f6b-4165-b23f-2ea30955c0f1",
   "metadata": {},
   "source": [
    "<hr>"
   ]
  },
  {
   "cell_type": "code",
   "execution_count": null,
   "id": "09c7d59e-1269-4e61-8efa-279ffd4be867",
   "metadata": {},
   "outputs": [],
   "source": []
  },
  {
   "cell_type": "markdown",
   "id": "591a664e-45c8-44e3-82c3-ca04f7a200ec",
   "metadata": {},
   "source": [
    "### Q2 Implementing the extended Euclidean algorithm\n",
    "\n",
    "Sympy has an implementation of the Extended Euclidean algorithm `sp.gcdex`\n",
    "\n",
    "    sp.gcdex(a,b)\n",
    "\n",
    "will return a 3-tuple (x,y,d) satisfying\n",
    "\n",
    "* `gcd(a,b) = d`\n",
    "* `d = ax + by`\n",
    "\n",
    "Let's write our own implementation of this using, again using the recursion principle, with the structure\n",
    "```{style=\"background-color:SteelBlue;color:White;\"}\n",
    "    def mygcdex(a,b):\n",
    "        if b==0:\n",
    "            return (?,?,a)\n",
    "        else:\n",
    "            q = ?\n",
    "            r = ?\n",
    "            (x,y,d) = mygcdex(?,?)\n",
    "            newx = ?\n",
    "            newy = ?\n",
    "            return (newx,newy,d)\n",
    "```\n",
    "\n",
    "**Task**\n",
    "\n",
    "1. Replace the `?`s in the code above to obtain a working version of `mygcdex`. You'll have to think very carefully about how to define `newx` and `newy`. Pen and paper may be needed to figure it out.\n",
    "2. Test it on some small arguments to ensure it's working correctly. \n",
    "3. Test it on some large arguments and ensure it's working correctly. \n",
    "4. Does the function work with (some or all) negative arguments? Adapt it so it does.\n",
    "4. Compare its output with `sp.gcdex`."
   ]
  },
  {
   "cell_type": "markdown",
   "id": "8f6cf017-9af6-4ad8-b25c-7afa1c8a5197",
   "metadata": {},
   "source": [
    "<hr>"
   ]
  },
  {
   "cell_type": "code",
   "execution_count": null,
   "id": "4ae6f443-042f-449e-a430-5201253bef11",
   "metadata": {},
   "outputs": [],
   "source": []
  },
  {
   "cell_type": "markdown",
   "id": "fca49521-953f-4c72-845d-6e82f0e88680",
   "metadata": {},
   "source": [
    "### Q3 Investigating multiplicative inverses\n",
    "\n",
    "Sympy has the function `sp.mod_inverse` for computing multiplicative modular inverses. `sp.mod_inverse(a,n)` returns the multiplicative inverse of `a` modulo `n`.\n",
    "\n",
    "**Task**\n",
    "\n",
    "1. Experiment with `sp.mod_inverse` to familiarize yourself with it and its output. \n",
    "2. Write your own function `mymod_inverse` that uses the output of `mygcdex` or `sp.gcdex` to calculate multiplicative inverses. \n",
    "3. It should raise an error, or at least print some output, to indicate when the inverse does not exist.\n",
    "4. Like before, test it and compare its output with `sp.mod_inverse`.\n",
    "5. Use `mymod_inverse` to replicate the table of inverses modulo 8, shown on page 55 of Stallings. "
   ]
  },
  {
   "cell_type": "markdown",
   "id": "7819f2bc-e308-43f2-a399-3c8ca96acc27",
   "metadata": {},
   "source": [
    "<hr>"
   ]
  },
  {
   "cell_type": "code",
   "execution_count": null,
   "id": "ea134b2e-51e7-43c5-83a7-2dffe86d980a",
   "metadata": {},
   "outputs": [],
   "source": []
  },
  {
   "cell_type": "markdown",
   "id": "efae7bf7-e63b-4fe9-8148-a0d6eff9971a",
   "metadata": {},
   "source": [
    "### Q4 Further investigation of multiplicative inverses\n",
    "\n",
    "1. Go further, and tabulate inverses for elements of $Z_n$ for a range of moduli $n$. \n",
    "2. For the moduli $n=3,5,7,11,13,17,\\dots$ what do you notice about the existence of multiplicative inverses. Why does it behave like this?"
   ]
  },
  {
   "cell_type": "markdown",
   "id": "5013d873-ec2a-4302-ad85-9c66173a3535",
   "metadata": {},
   "source": [
    "<hr>"
   ]
  },
  {
   "cell_type": "code",
   "execution_count": null,
   "id": "2d9ad32e-c838-4a53-bf3e-ac184bfc4673",
   "metadata": {},
   "outputs": [],
   "source": []
  },
  {
   "cell_type": "markdown",
   "id": "b8d8d31c-bdd6-4777-9520-e4ec715b4712",
   "metadata": {},
   "source": [
    "### Working with the problems in Chapter 2 of Stallings. \n",
    "\n",
    "Each chapter of Stallings ends with a collection of problems that will help to consolidate and further your understanding of the topics. Suggested problems from Chapter 2 are \n",
    "\n",
    "* 2.3\n",
    "* 2.11\n",
    "* 2.12\n",
    "* Problems 2.13, 2.14 and 2.15 carry out further investigation of Euclid's algorithm and an alternative algorithm for computing `gcd`.\n",
    "* 2.16"
   ]
  },
  {
   "cell_type": "code",
   "execution_count": null,
   "id": "37437104-27aa-4e82-b603-02f00af4d7b8",
   "metadata": {},
   "outputs": [],
   "source": []
  }
 ],
 "metadata": {
  "kernelspec": {
   "display_name": "Python 3 (ipykernel)",
   "language": "python",
   "name": "python3"
  },
  "language_info": {
   "codemirror_mode": {
    "name": "ipython",
    "version": 3
   },
   "file_extension": ".py",
   "mimetype": "text/x-python",
   "name": "python",
   "nbconvert_exporter": "python",
   "pygments_lexer": "ipython3",
   "version": "3.12.4"
  }
 },
 "nbformat": 4,
 "nbformat_minor": 5
}
