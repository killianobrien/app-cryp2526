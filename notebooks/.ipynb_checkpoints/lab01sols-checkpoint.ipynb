{
 "cells": [
  {
   "cell_type": "markdown",
   "id": "267cc247",
   "metadata": {},
   "source": [
    "# Week 01 Lab solutions\n",
    "## Applied Cryptography (6G6Z0024_2324_9)\n",
    "### Killian O'Brien"
   ]
  },
  {
   "cell_type": "markdown",
   "id": "b8577d25",
   "metadata": {},
   "source": [
    "Import the [Sympy](https://www.sympy.org/en/index.html) library to provide the `synmpy.gcd`, `sympy.floor`, `sympy.mod_inverse` functions and others.\n",
    "\n",
    "See accompanying videos on Moodle for explanations of these solutions."
   ]
  },
  {
   "cell_type": "code",
   "execution_count": 2,
   "id": "745f8bdd",
   "metadata": {},
   "outputs": [],
   "source": [
    "import sympy as sp"
   ]
  },
  {
   "cell_type": "markdown",
   "id": "7b7a792e",
   "metadata": {},
   "source": [
    "#### Q1"
   ]
  },
  {
   "cell_type": "code",
   "execution_count": 3,
   "id": "a8bf6329",
   "metadata": {},
   "outputs": [
    {
     "data": {
      "text/latex": [
       "$\\displaystyle 10$"
      ],
      "text/plain": [
       "10"
      ]
     },
     "execution_count": 3,
     "metadata": {},
     "output_type": "execute_result"
    }
   ],
   "source": [
    "sp.gcd(710,310)"
   ]
  },
  {
   "cell_type": "code",
   "execution_count": 73,
   "id": "4e896d67",
   "metadata": {},
   "outputs": [],
   "source": [
    "def mygcd(a,b):\n",
    "    a = abs(a)\n",
    "    b = abs(b)\n",
    "    if b==0:\n",
    "        return a\n",
    "    elif a==0:\n",
    "        return b\n",
    "    else:\n",
    "        q = sp.floor(a/b)\n",
    "        r = a - q*b\n",
    "        #s = 'The int div with remainder is '+str(a)+'='+str(q)+'*'+str(b)+'+'+str(r)\n",
    "        #print(s)\n",
    "        return mygcd(b,r)"
   ]
  },
  {
   "cell_type": "code",
   "execution_count": 17,
   "id": "f459cc03",
   "metadata": {},
   "outputs": [
    {
     "name": "stdout",
     "output_type": "stream",
     "text": [
      "The int div with remainder is 710=2*310+90\n",
      "The int div with remainder is 310=3*90+40\n",
      "The int div with remainder is 90=2*40+10\n",
      "The int div with remainder is 40=4*10+0\n"
     ]
    },
    {
     "data": {
      "text/latex": [
       "$\\displaystyle 10$"
      ],
      "text/plain": [
       "10"
      ]
     },
     "execution_count": 17,
     "metadata": {},
     "output_type": "execute_result"
    }
   ],
   "source": [
    "mygcd(710,-310)"
   ]
  },
  {
   "cell_type": "code",
   "execution_count": 12,
   "id": "86b131fe",
   "metadata": {},
   "outputs": [
    {
     "data": {
      "text/latex": [
       "$\\displaystyle 1$"
      ],
      "text/plain": [
       "1"
      ]
     },
     "execution_count": 12,
     "metadata": {},
     "output_type": "execute_result"
    }
   ],
   "source": [
    "a = 23478056238745687\n",
    "b = 2345672534\n",
    "\n",
    "sp.gcd(a,b)"
   ]
  },
  {
   "cell_type": "code",
   "execution_count": 13,
   "id": "fd6eee3d",
   "metadata": {},
   "outputs": [
    {
     "name": "stdout",
     "output_type": "stream",
     "text": [
      "The int div with remainder is 23478056238745687=10009093*2345672534+1698394025\n",
      "The int div with remainder is 2345672534=1*1698394025+647278509\n",
      "The int div with remainder is 1698394025=2*647278509+403837007\n",
      "The int div with remainder is 647278509=1*403837007+243441502\n",
      "The int div with remainder is 403837007=1*243441502+160395505\n",
      "The int div with remainder is 243441502=1*160395505+83045997\n",
      "The int div with remainder is 160395505=1*83045997+77349508\n",
      "The int div with remainder is 83045997=1*77349508+5696489\n",
      "The int div with remainder is 77349508=13*5696489+3295151\n",
      "The int div with remainder is 5696489=1*3295151+2401338\n",
      "The int div with remainder is 3295151=1*2401338+893813\n",
      "The int div with remainder is 2401338=2*893813+613712\n",
      "The int div with remainder is 893813=1*613712+280101\n",
      "The int div with remainder is 613712=2*280101+53510\n",
      "The int div with remainder is 280101=5*53510+12551\n",
      "The int div with remainder is 53510=4*12551+3306\n",
      "The int div with remainder is 12551=3*3306+2633\n",
      "The int div with remainder is 3306=1*2633+673\n",
      "The int div with remainder is 2633=3*673+614\n",
      "The int div with remainder is 673=1*614+59\n",
      "The int div with remainder is 614=10*59+24\n",
      "The int div with remainder is 59=2*24+11\n",
      "The int div with remainder is 24=2*11+2\n",
      "The int div with remainder is 11=5*2+1\n",
      "The int div with remainder is 2=2*1+0\n"
     ]
    },
    {
     "data": {
      "text/latex": [
       "$\\displaystyle 1$"
      ],
      "text/plain": [
       "1"
      ]
     },
     "execution_count": 13,
     "metadata": {},
     "output_type": "execute_result"
    }
   ],
   "source": [
    "mygcd(a,b)"
   ]
  },
  {
   "cell_type": "markdown",
   "id": "a8bf34f3",
   "metadata": {},
   "source": [
    "#### Q2"
   ]
  },
  {
   "cell_type": "code",
   "execution_count": 28,
   "id": "eebc41b9",
   "metadata": {},
   "outputs": [
    {
     "data": {
      "text/plain": [
       "(7, -16, 10)"
      ]
     },
     "execution_count": 28,
     "metadata": {},
     "output_type": "execute_result"
    }
   ],
   "source": [
    "sp.gcdex(710,310)"
   ]
  },
  {
   "cell_type": "code",
   "execution_count": 29,
   "id": "6f68f747",
   "metadata": {},
   "outputs": [
    {
     "data": {
      "text/plain": [
       "10"
      ]
     },
     "execution_count": 29,
     "metadata": {},
     "output_type": "execute_result"
    }
   ],
   "source": [
    "7*710 -16*310"
   ]
  },
  {
   "cell_type": "code",
   "execution_count": 31,
   "id": "7098c021",
   "metadata": {},
   "outputs": [],
   "source": [
    "def mygcdex(a,b):\n",
    "    if b==0:\n",
    "        return (1,0,a)\n",
    "    else:\n",
    "        # int div a = q*b + r,  0<= r < abs(b)\n",
    "        q = sp.floor(a/b)\n",
    "        \n",
    "        if b > 0:\n",
    "            r = a - q*b\n",
    "        elif b < 0:\n",
    "            r = a - (q+1)*b\n",
    "            \n",
    "        (x,y,d) = mygcdex(b,r)\n",
    "        newx = y\n",
    "        if b > 0:\n",
    "            newy = x - q*y\n",
    "        elif b < 0:\n",
    "            newy = x - y*(q+1)\n",
    "        return (newx,newy,d)"
   ]
  },
  {
   "cell_type": "code",
   "execution_count": 33,
   "id": "11a38c6d",
   "metadata": {},
   "outputs": [
    {
     "data": {
      "text/plain": [
       "(7, 16, 10)"
      ]
     },
     "execution_count": 33,
     "metadata": {},
     "output_type": "execute_result"
    }
   ],
   "source": [
    "mygcdex(710,-310)"
   ]
  },
  {
   "cell_type": "code",
   "execution_count": 34,
   "id": "f5498e5f",
   "metadata": {},
   "outputs": [
    {
     "data": {
      "text/plain": [
       "10"
      ]
     },
     "execution_count": 34,
     "metadata": {},
     "output_type": "execute_result"
    }
   ],
   "source": [
    "7*710 +16*(-310)"
   ]
  },
  {
   "cell_type": "code",
   "execution_count": 36,
   "id": "8ffcec95",
   "metadata": {},
   "outputs": [
    {
     "name": "stdout",
     "output_type": "stream",
     "text": [
      "(-1073503545, 10744797595009424, 1)\n"
     ]
    }
   ],
   "source": [
    "a = 23478056238745687\n",
    "b = 2345672534\n",
    "\n",
    "t = sp.gcdex(a,b)\n",
    "print(t)"
   ]
  },
  {
   "cell_type": "code",
   "execution_count": 38,
   "id": "63cda652",
   "metadata": {},
   "outputs": [
    {
     "data": {
      "text/plain": [
       "True"
      ]
     },
     "execution_count": 38,
     "metadata": {},
     "output_type": "execute_result"
    }
   ],
   "source": [
    "t[0]*a + t[1]*b == t[2]"
   ]
  },
  {
   "cell_type": "code",
   "execution_count": 39,
   "id": "dcdeba08",
   "metadata": {},
   "outputs": [
    {
     "name": "stdout",
     "output_type": "stream",
     "text": [
      "(-1073503545, 10744797595009424, 1)\n"
     ]
    }
   ],
   "source": [
    "a = 23478056238745687\n",
    "b = 2345672534\n",
    "\n",
    "t = mygcdex(a,b)\n",
    "print(t)"
   ]
  },
  {
   "cell_type": "code",
   "execution_count": 40,
   "id": "9f1829e9",
   "metadata": {},
   "outputs": [
    {
     "data": {
      "text/plain": [
       "True"
      ]
     },
     "execution_count": 40,
     "metadata": {},
     "output_type": "execute_result"
    }
   ],
   "source": [
    "t[0]*a + t[1]*b == t[2]"
   ]
  },
  {
   "cell_type": "markdown",
   "id": "c63ef684",
   "metadata": {},
   "source": [
    "#### Q3 and Q4"
   ]
  },
  {
   "cell_type": "code",
   "execution_count": 43,
   "id": "42036816",
   "metadata": {},
   "outputs": [
    {
     "data": {
      "text/plain": [
       "5"
      ]
     },
     "execution_count": 43,
     "metadata": {},
     "output_type": "execute_result"
    }
   ],
   "source": [
    "sp.mod_inverse(5,8)"
   ]
  },
  {
   "cell_type": "code",
   "execution_count": 44,
   "id": "68269be9",
   "metadata": {},
   "outputs": [
    {
     "data": {
      "text/plain": [
       "9"
      ]
     },
     "execution_count": 44,
     "metadata": {},
     "output_type": "execute_result"
    }
   ],
   "source": [
    "sp.mod_inverse(5,11)"
   ]
  },
  {
   "cell_type": "code",
   "execution_count": 90,
   "id": "68276932",
   "metadata": {},
   "outputs": [],
   "source": [
    "def mymod_inverse(x,n):\n",
    "    t = mygcdex(x,n)\n",
    "    if t[2] != 1:\n",
    "        raise ValueError('The element '+str(x)+' is not invertible modulo '+str(n))\n",
    "    return sp.Mod(t[0],n)"
   ]
  },
  {
   "cell_type": "code",
   "execution_count": 91,
   "id": "1785f6bf",
   "metadata": {},
   "outputs": [
    {
     "data": {
      "text/latex": [
       "$\\displaystyle 5$"
      ],
      "text/plain": [
       "5"
      ]
     },
     "execution_count": 91,
     "metadata": {},
     "output_type": "execute_result"
    }
   ],
   "source": [
    "mymod_inverse(5,8)"
   ]
  },
  {
   "cell_type": "code",
   "execution_count": 92,
   "id": "432359b2",
   "metadata": {},
   "outputs": [
    {
     "data": {
      "text/latex": [
       "$\\displaystyle 9$"
      ],
      "text/plain": [
       "9"
      ]
     },
     "execution_count": 92,
     "metadata": {},
     "output_type": "execute_result"
    }
   ],
   "source": [
    "mymod_inverse(5,11)"
   ]
  },
  {
   "cell_type": "code",
   "execution_count": 93,
   "id": "341911e2",
   "metadata": {},
   "outputs": [
    {
     "ename": "ValueError",
     "evalue": "The element 2 is not invertible modulo 8",
     "output_type": "error",
     "traceback": [
      "\u001b[0;31m---------------------------------------------------------------------------\u001b[0m",
      "\u001b[0;31mValueError\u001b[0m                                Traceback (most recent call last)",
      "\u001b[0;32m<ipython-input-93-8214022e4446>\u001b[0m in \u001b[0;36m<module>\u001b[0;34m\u001b[0m\n\u001b[0;32m----> 1\u001b[0;31m \u001b[0mmymod_inverse\u001b[0m\u001b[0;34m(\u001b[0m\u001b[0;36m2\u001b[0m\u001b[0;34m,\u001b[0m\u001b[0;36m8\u001b[0m\u001b[0;34m)\u001b[0m\u001b[0;34m\u001b[0m\u001b[0;34m\u001b[0m\u001b[0m\n\u001b[0m",
      "\u001b[0;32m<ipython-input-90-9b2fe7c9e27a>\u001b[0m in \u001b[0;36mmymod_inverse\u001b[0;34m(x, n)\u001b[0m\n\u001b[1;32m      2\u001b[0m     \u001b[0mt\u001b[0m \u001b[0;34m=\u001b[0m \u001b[0mmygcdex\u001b[0m\u001b[0;34m(\u001b[0m\u001b[0mx\u001b[0m\u001b[0;34m,\u001b[0m\u001b[0mn\u001b[0m\u001b[0;34m)\u001b[0m\u001b[0;34m\u001b[0m\u001b[0;34m\u001b[0m\u001b[0m\n\u001b[1;32m      3\u001b[0m     \u001b[0;32mif\u001b[0m \u001b[0mt\u001b[0m\u001b[0;34m[\u001b[0m\u001b[0;36m2\u001b[0m\u001b[0;34m]\u001b[0m \u001b[0;34m!=\u001b[0m \u001b[0;36m1\u001b[0m\u001b[0;34m:\u001b[0m\u001b[0;34m\u001b[0m\u001b[0;34m\u001b[0m\u001b[0m\n\u001b[0;32m----> 4\u001b[0;31m         \u001b[0;32mraise\u001b[0m \u001b[0mValueError\u001b[0m\u001b[0;34m(\u001b[0m\u001b[0;34m'The element '\u001b[0m\u001b[0;34m+\u001b[0m\u001b[0mstr\u001b[0m\u001b[0;34m(\u001b[0m\u001b[0mx\u001b[0m\u001b[0;34m)\u001b[0m\u001b[0;34m+\u001b[0m\u001b[0;34m' is not invertible modulo '\u001b[0m\u001b[0;34m+\u001b[0m\u001b[0mstr\u001b[0m\u001b[0;34m(\u001b[0m\u001b[0mn\u001b[0m\u001b[0;34m)\u001b[0m\u001b[0;34m)\u001b[0m\u001b[0;34m\u001b[0m\u001b[0;34m\u001b[0m\u001b[0m\n\u001b[0m\u001b[1;32m      5\u001b[0m     \u001b[0;32mreturn\u001b[0m \u001b[0msp\u001b[0m\u001b[0;34m.\u001b[0m\u001b[0mMod\u001b[0m\u001b[0;34m(\u001b[0m\u001b[0mt\u001b[0m\u001b[0;34m[\u001b[0m\u001b[0;36m0\u001b[0m\u001b[0;34m]\u001b[0m\u001b[0;34m,\u001b[0m\u001b[0mn\u001b[0m\u001b[0;34m)\u001b[0m\u001b[0;34m\u001b[0m\u001b[0;34m\u001b[0m\u001b[0m\n",
      "\u001b[0;31mValueError\u001b[0m: The element 2 is not invertible modulo 8"
     ]
    }
   ],
   "source": [
    "mymod_inverse(2,8)"
   ]
  },
  {
   "cell_type": "code",
   "execution_count": 95,
   "id": "3a85dae3",
   "metadata": {},
   "outputs": [
    {
     "data": {
      "text/plain": [
       "[1, 3, 5, 7]"
      ]
     },
     "execution_count": 95,
     "metadata": {},
     "output_type": "execute_result"
    }
   ],
   "source": [
    "Z8 = [x for x in range(8) if mygcd(x,8)==1]\n",
    "Z8"
   ]
  },
  {
   "cell_type": "code",
   "execution_count": 97,
   "id": "6da60bc9",
   "metadata": {},
   "outputs": [
    {
     "data": {
      "text/plain": [
       "[1, 3, 5, 7]"
      ]
     },
     "execution_count": 97,
     "metadata": {},
     "output_type": "execute_result"
    }
   ],
   "source": [
    "[mymod_inverse(x,8) for x in Z8]"
   ]
  },
  {
   "cell_type": "code",
   "execution_count": 98,
   "id": "d16b1064",
   "metadata": {},
   "outputs": [
    {
     "data": {
      "text/plain": [
       "[1, 2, 3, 4, 5, 6, 7, 8, 9, 10]"
      ]
     },
     "execution_count": 98,
     "metadata": {},
     "output_type": "execute_result"
    }
   ],
   "source": [
    "Z11 = [x for x in range(11) if mygcd(x,11)==1]\n",
    "Z11"
   ]
  },
  {
   "cell_type": "code",
   "execution_count": 103,
   "id": "ee9f5091",
   "metadata": {},
   "outputs": [
    {
     "data": {
      "text/plain": [
       "[(1, 1),\n",
       " (2, 6),\n",
       " (3, 4),\n",
       " (4, 3),\n",
       " (5, 9),\n",
       " (6, 2),\n",
       " (7, 8),\n",
       " (8, 7),\n",
       " (9, 5),\n",
       " (10, 10)]"
      ]
     },
     "execution_count": 103,
     "metadata": {},
     "output_type": "execute_result"
    }
   ],
   "source": [
    "[(x,mymod_inverse(x,11)) for x in Z11]"
   ]
  },
  {
   "cell_type": "code",
   "execution_count": 102,
   "id": "efa65914",
   "metadata": {},
   "outputs": [
    {
     "data": {
      "text/latex": [
       "$\\displaystyle 1$"
      ],
      "text/plain": [
       "1"
      ]
     },
     "execution_count": 102,
     "metadata": {},
     "output_type": "execute_result"
    }
   ],
   "source": [
    "sp.Mod(7*8,11)"
   ]
  },
  {
   "cell_type": "code",
   "execution_count": null,
   "id": "72cbd2c6",
   "metadata": {},
   "outputs": [],
   "source": []
  }
 ],
 "metadata": {
  "kernelspec": {
   "display_name": "Python 3",
   "language": "python",
   "name": "python3"
  },
  "language_info": {
   "codemirror_mode": {
    "name": "ipython",
    "version": 3
   },
   "file_extension": ".py",
   "mimetype": "text/x-python",
   "name": "python",
   "nbconvert_exporter": "python",
   "pygments_lexer": "ipython3",
   "version": "3.8.8"
  }
 },
 "nbformat": 4,
 "nbformat_minor": 5
}
