{
 "cells": [
  {
   "cell_type": "markdown",
   "id": "efb6bf24",
   "metadata": {},
   "source": [
    "#### Week 05 Lab\n",
    "## Applied Cryptography (6G6Z0024)\n",
    "### Killian O'Brien"
   ]
  },
  {
   "cell_type": "markdown",
   "id": "6d1e47a1",
   "metadata": {},
   "source": [
    "#### Finite field exercises\n",
    "\n",
    "For today's lab we can work with some exercises from <a href=\"https://mmu.on.worldcat.org/oclc/1334132058\" target=\"_blank\">Stallings, Chapter 5 <em>Finite fields</em></a>.\n",
    "\n",
    "1. For polynomial arithmetic where the coefficients come from $\\mathbb{Z}_{11}$, perform the following calculations\n",
    "$$(x^2 + 2x + 9) \\cdot (x^3 + 10x^2 + x + 7),$$\n",
    "and\n",
    "$$(8x^2 + 3x +2)\\cdot(5x^2 + 6).$$\n",
    "\n",
    "2. Determine which, if any, of the following three polynomials are irreducible in the system of polynomials with binary coefficients, i.e. coefficients from $\\text{GF}(2)$: \n",
    "    - $x^2 + 1$, \n",
    "    - $x^2 + x + 1$, \n",
    "    - $x^4 + x + 1$.\n",
    "      \n",
    "3. Determine the gcd of the following pair of polynomials\n",
    "    - $(x^3 +1)$ and $(x^2 + x +1)$ over $\\text{GF}(2)$.\n",
    "    - $(x^4 + 8x^3 + 7x + 8)$ and $(2x^3 + 9x^2 + 10x +1)$ over $\\text{GF}(11)$. \n",
    "    \n",
    "Solutions to these questions will follow during the week for checking your work."
   ]
  },
  {
   "cell_type": "markdown",
   "id": "616b7942",
   "metadata": {},
   "source": [
    "####  Coursework questions based on the DES\n",
    "\n",
    "There will also be time in the lab for you to work on the DES assessment questions. "
   ]
  },
  {
   "cell_type": "code",
   "execution_count": null,
   "id": "66540360",
   "metadata": {},
   "outputs": [],
   "source": []
  }
 ],
 "metadata": {
  "kernelspec": {
   "display_name": "Python 3 (ipykernel)",
   "language": "python",
   "name": "python3"
  },
  "language_info": {
   "codemirror_mode": {
    "name": "ipython",
    "version": 3
   },
   "file_extension": ".py",
   "mimetype": "text/x-python",
   "name": "python",
   "nbconvert_exporter": "python",
   "pygments_lexer": "ipython3",
   "version": "3.12.4"
  }
 },
 "nbformat": 4,
 "nbformat_minor": 5
}
