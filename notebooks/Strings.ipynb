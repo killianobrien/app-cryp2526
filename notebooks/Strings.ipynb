{
 "cells": [
  {
   "cell_type": "markdown",
   "id": "602c4b00",
   "metadata": {},
   "source": [
    "# Working with strings in Python\n",
    "\n",
    "*Some useful commands and techniques for working on the DES questions.*\n",
    "\n",
    "There are many good online guides to working with strings in Python, for example the <a href=\"https://developers.google.com/edu/python/strings\" target=\"_blank\">Strings section</a> of <a href=\"https://developers.google.com/edu/python\" target=\"_blank\">Google's Python Class</a>. So consult this or other guides for further details. \n",
    "\n",
    "But your previous programming experience and the tips and commands in this notebook should be enough to get you through the DES questions. "
   ]
  },
  {
   "cell_type": "markdown",
   "id": "ba5cb3e7-fe39-4449-b95d-bed6c90481f8",
   "metadata": {},
   "source": [
    "### String indexing and slicing"
   ]
  },
  {
   "cell_type": "markdown",
   "id": "32619472",
   "metadata": {},
   "source": [
    "Indexing and slicing is how we can reference and use individual characters and substrings of a string. Indexing and slicing of strings in Python shares a lot of behaviour with indexing and slciing of arrays or lists.\n",
    "\n",
    "Consider the following 64 bit binary string `k`. This is actually the key string that you will be using in answering the DES questions. Here we will use it to demonstrate some string manipulation techniques."
   ]
  },
  {
   "cell_type": "code",
   "execution_count": 1,
   "id": "16bb48f3",
   "metadata": {},
   "outputs": [
    {
     "data": {
      "text/plain": [
       "'0011000100110010001100110011010000110101001101100011011100111000'"
      ]
     },
     "execution_count": 1,
     "metadata": {},
     "output_type": "execute_result"
    }
   ],
   "source": [
    "k = '0011000100110010001100110011010000110101001101100011011100111000'\n",
    "k"
   ]
  },
  {
   "cell_type": "markdown",
   "id": "f5e9aa57",
   "metadata": {},
   "source": [
    "The command `len(k)` returns the length of the string, i.e. the number of characters in the string. "
   ]
  },
  {
   "cell_type": "code",
   "execution_count": 2,
   "id": "cd4a13a5",
   "metadata": {},
   "outputs": [
    {
     "data": {
      "text/plain": [
       "64"
      ]
     },
     "execution_count": 2,
     "metadata": {},
     "output_type": "execute_result"
    }
   ],
   "source": [
    "len(k)"
   ]
  },
  {
   "cell_type": "markdown",
   "id": "7c4567a6",
   "metadata": {},
   "source": [
    "Individual characters of the string `k` can be referenced by `k[i]`, where `i` is the index of a character in the string. Remember that Python, like most languages, uses 0-based indexing of strings and arrays. So here are the first three characters of `k`"
   ]
  },
  {
   "cell_type": "code",
   "execution_count": 3,
   "id": "9b9acbdb",
   "metadata": {},
   "outputs": [
    {
     "data": {
      "text/plain": [
       "'0'"
      ]
     },
     "execution_count": 3,
     "metadata": {},
     "output_type": "execute_result"
    }
   ],
   "source": [
    "k[0]"
   ]
  },
  {
   "cell_type": "code",
   "execution_count": 4,
   "id": "aeb362d1",
   "metadata": {},
   "outputs": [
    {
     "data": {
      "text/plain": [
       "'0'"
      ]
     },
     "execution_count": 4,
     "metadata": {},
     "output_type": "execute_result"
    }
   ],
   "source": [
    "k[1]"
   ]
  },
  {
   "cell_type": "code",
   "execution_count": 5,
   "id": "e856556d",
   "metadata": {},
   "outputs": [
    {
     "data": {
      "text/plain": [
       "'1'"
      ]
     },
     "execution_count": 5,
     "metadata": {},
     "output_type": "execute_result"
    }
   ],
   "source": [
    "k[2]"
   ]
  },
  {
   "cell_type": "markdown",
   "id": "fc7c95f0",
   "metadata": {},
   "source": [
    "Note that these commands return single character strings."
   ]
  },
  {
   "cell_type": "markdown",
   "id": "3a2343bc",
   "metadata": {},
   "source": [
    "This indexing can be extended to refer to substrings within `k`. This is sometimes referred to as string *slicing*. For instance the following returns a ten character substring `s` of `k`, consisting of the bits from index position 3 through 12, i.e. the fourth through thirteenth bits of `k`. "
   ]
  },
  {
   "cell_type": "code",
   "execution_count": 6,
   "id": "6e21ab25",
   "metadata": {},
   "outputs": [
    {
     "data": {
      "text/plain": [
       "'1000100110'"
      ]
     },
     "execution_count": 6,
     "metadata": {},
     "output_type": "execute_result"
    }
   ],
   "source": [
    "s = k[3:13]\n",
    "s"
   ]
  },
  {
   "cell_type": "code",
   "execution_count": 7,
   "id": "e3a7285e",
   "metadata": {},
   "outputs": [
    {
     "data": {
      "text/plain": [
       "10"
      ]
     },
     "execution_count": 7,
     "metadata": {},
     "output_type": "execute_result"
    }
   ],
   "source": [
    "len(s)"
   ]
  },
  {
   "cell_type": "markdown",
   "id": "092f8923-7631-4e54-be0d-7d2a65202256",
   "metadata": {},
   "source": [
    "### Transforming a string\n",
    "\n",
    "Your work on the DES questions will require to perform various transformations of strings. \n",
    "\n",
    "As an example, let us transform `k` into a new string `h`, where the bit at index `i` of `h` is the bit at index `R[i]` of `k`, where `R` is an array of random indexes (with perhaps some repetitions) from the list $0, 1, 2, 3, \\dots 63$."
   ]
  },
  {
   "cell_type": "code",
   "execution_count": 8,
   "id": "26687d10-6b4d-4eca-a91e-bb8430cb1428",
   "metadata": {},
   "outputs": [],
   "source": [
    "from random import randint"
   ]
  },
  {
   "cell_type": "code",
   "execution_count": 9,
   "id": "ee806852-f3c4-4e21-8138-c639f397142d",
   "metadata": {},
   "outputs": [],
   "source": [
    "R = [randint(0,63) for j in range(64)] # this creates R as an array of 64 random integers from the list 0,..,63."
   ]
  },
  {
   "cell_type": "code",
   "execution_count": 10,
   "id": "73e2c72d-1b1d-4980-bbc7-20675574d454",
   "metadata": {},
   "outputs": [
    {
     "data": {
      "text/plain": [
       "64"
      ]
     },
     "execution_count": 10,
     "metadata": {},
     "output_type": "execute_result"
    }
   ],
   "source": [
    "len(R)"
   ]
  },
  {
   "cell_type": "code",
   "execution_count": 11,
   "id": "236914fa-01f8-44e1-a416-4b3917a674e9",
   "metadata": {},
   "outputs": [],
   "source": [
    "h = ''.join(k[R[i]] for i in range(64))"
   ]
  },
  {
   "cell_type": "code",
   "execution_count": 12,
   "id": "ceb49f6f-555d-4fca-ba63-038f1c385105",
   "metadata": {},
   "outputs": [
    {
     "data": {
      "text/plain": [
       "'0011000100110010001100110011010000110101001101100011011100111000'"
      ]
     },
     "execution_count": 12,
     "metadata": {},
     "output_type": "execute_result"
    }
   ],
   "source": [
    "k"
   ]
  },
  {
   "cell_type": "code",
   "execution_count": 13,
   "id": "280b9911-d9c5-4c97-a0e0-b5b2292fac41",
   "metadata": {},
   "outputs": [
    {
     "data": {
      "text/plain": [
       "'0011101001011010101100000111011101100000100011101011000110010001'"
      ]
     },
     "execution_count": 13,
     "metadata": {},
     "output_type": "execute_result"
    }
   ],
   "source": [
    "h"
   ]
  },
  {
   "cell_type": "code",
   "execution_count": null,
   "id": "2c506400-69ea-4d59-a886-2eb35d7b35cb",
   "metadata": {},
   "outputs": [],
   "source": []
  }
 ],
 "metadata": {
  "kernelspec": {
   "display_name": "Python 3 (ipykernel)",
   "language": "python",
   "name": "python3"
  },
  "language_info": {
   "codemirror_mode": {
    "name": "ipython",
    "version": 3
   },
   "file_extension": ".py",
   "mimetype": "text/x-python",
   "name": "python",
   "nbconvert_exporter": "python",
   "pygments_lexer": "ipython3",
   "version": "3.10.12"
  }
 },
 "nbformat": 4,
 "nbformat_minor": 5
}
