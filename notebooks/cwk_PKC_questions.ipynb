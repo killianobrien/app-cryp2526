{
 "cells": [
  {
   "cell_type": "markdown",
   "id": "b92871d5",
   "metadata": {},
   "source": [
    "# Coursework assignment: Public-key cryptosystems\n",
    "## Applied Cryptography (6G6Z0024_2324_9)\n",
    "### Killian O'Brien"
   ]
  },
  {
   "cell_type": "markdown",
   "id": "05c41cd5",
   "metadata": {},
   "source": [
    "### Introduction\n",
    "\n",
    "#### Introduction\n",
    "\n",
    "* Prepare Jupyter notebook solutions to the following problems on public-key cryptosystems. \n",
    "* Use code cells to perform the necessary computations and accompanying Markdown cells to provide brief explanations of your code. \n",
    "\n",
    "#### Question parameters\n",
    "\n",
    "The following questions require inputs derived from your student ID number. Let $n$ denote your 8-digit Man Met student ID number. Now let $a$ and $b$ denote the 4-digit integers formed by, respectively, the left-hand and right-hand halves of $n$. \n",
    "\n",
    "For example, if $n = 21395495$ then we would have $a=2139$ and $b=5495$. But when working on these questions make sure that you are using your correct values of $n$, $a$ and $b$.\n",
    "\n",
    "#### Sympy functions\n",
    "\n",
    "Useful functions from the Sympy library for working on these problems are given below. For guidance and examples on using these functions, either quicky view the functions docstring within Jupyter by executing `sympy.nextprime?` for example, or consult the [Sympy documentation](https://docs.sympy.org/latest/modules/ntheory.html) or other resources from [sympy.org](https://www.sympy.org/en/index.html).\n",
    "\n",
    "* `sympy.nextprime()`\n",
    "* `sp.is_primitive_root()`"
   ]
  },
  {
   "cell_type": "markdown",
   "id": "59846792",
   "metadata": {},
   "source": [
    "### Questions\n",
    "\n",
    "**RSA** Questions 1 &mdash; 4 are about the RSA cryptosystem.\n",
    "\n",
    "* **Q1** Let $p$ be the smallest prime satisfying $p \\geq n$ and let $q$ be the smallest prime satisfying $q \\geq (n+10^6)$. Let $m$ denote the product $m = p \\cdot q$. Determine the values `p,q,m` with the help of Sympy's `nextprime` function.\n",
    "* **Q2** Your public key is the pair $(101,m)$. Determine your corresponding private key pair $(d,m)$. Store the relevant value in the variable `d`.\n",
    "* **Q3** Use your public key to encrypt the message represented by your number $b$. Store the encrypted value in the variable `M`.\n",
    "* **Q4** Finally, decrypt the encrypted message $M$ with the use of your private key and confirm that the plaintext message $b$ is recovered. \n",
    "\n",
    "**Diffie-Hellman key exchange** Questions 5 &mdash; 7 concern the Diffie-Hellman key exchange protocol. \n",
    "\n",
    "* **Q5** Let $p$ be defined as in Q1, i.e. the smallest prime satisfying $p \\geq n$. Determine the smallest positive integer $\\alpha$ such that $\\alpha$ is a primitive root modulo $p$. Store this in a variable `alpha`.\n",
    "* **Q6** Alice and Bob agree to a Diffie-Hellman key exchange using the prime $p$ and primitive root $\\alpha$. Alice's private key is $X_A = a$ and Bob's private key is $X_B = b$. Determine the public keys $Y_A$ and $Y_B$ exchanged by Alice and Bob. Store these in variables `YA` and `YB`.\n",
    "* **Q7** Determine the shared secret key $K$ that Alice and Bob can compute. Store this in a variable `K`.\n",
    "\n",
    "**Miller-Rabin primality test** This question is based on the Miller-Rabin probabilistic primality test. You will need to read about this test in section 2.6 of chapter 2 of the Stallings textbook. \n",
    "\n",
    "* **Q8** Let $p$ be defined as in Q1, i.e. the smallest prime satisfying $p \\geq n$. Confirm that $p$ passes the Miller-Rabin test by carrying out the necessary computations to confirm the expected value(s) modulo $p$ of the exponential(s) with base $a$. "
   ]
  },
  {
   "cell_type": "code",
   "execution_count": null,
   "id": "3253ab8e",
   "metadata": {},
   "outputs": [],
   "source": []
  }
 ],
 "metadata": {
  "kernelspec": {
   "display_name": "Python 3",
   "language": "python",
   "name": "python3"
  },
  "language_info": {
   "codemirror_mode": {
    "name": "ipython",
    "version": 3
   },
   "file_extension": ".py",
   "mimetype": "text/x-python",
   "name": "python",
   "nbconvert_exporter": "python",
   "pygments_lexer": "ipython3",
   "version": "3.8.8"
  }
 },
 "nbformat": 4,
 "nbformat_minor": 5
}
