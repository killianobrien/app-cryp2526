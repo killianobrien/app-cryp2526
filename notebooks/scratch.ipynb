{
 "cells": [
  {
   "cell_type": "code",
   "execution_count": 1,
   "id": "71d3ddcb-3f82-4e7b-b631-e4ffdad72b5a",
   "metadata": {},
   "outputs": [],
   "source": [
    "import sympy as sp"
   ]
  },
  {
   "cell_type": "code",
   "execution_count": 2,
   "id": "7a82a1cc-2c47-431b-ab2d-026d8d921936",
   "metadata": {},
   "outputs": [
    {
     "data": {
      "text/latex": [
       "$\\displaystyle -3$"
      ],
      "text/plain": [
       "-3"
      ]
     },
     "execution_count": 2,
     "metadata": {},
     "output_type": "execute_result"
    }
   ],
   "source": [
    "sp.floor(-2.3)"
   ]
  },
  {
   "cell_type": "code",
   "execution_count": 7,
   "id": "92fff3f9-8a25-4141-8d39-567341910d89",
   "metadata": {},
   "outputs": [
    {
     "data": {
      "text/plain": [
       "-2.2903225806451615"
      ]
     },
     "execution_count": 7,
     "metadata": {},
     "output_type": "execute_result"
    }
   ],
   "source": [
    "-710/310"
   ]
  },
  {
   "cell_type": "code",
   "execution_count": 8,
   "id": "f6fe0099-1a18-4157-a3e1-2ff6c2d799ce",
   "metadata": {},
   "outputs": [
    {
     "data": {
      "text/latex": [
       "$\\displaystyle -3$"
      ],
      "text/plain": [
       "-3"
      ]
     },
     "execution_count": 8,
     "metadata": {},
     "output_type": "execute_result"
    }
   ],
   "source": [
    "sp.floor(_)"
   ]
  },
  {
   "cell_type": "code",
   "execution_count": 13,
   "id": "c44d8159-2180-4db6-b520-80178f422a1c",
   "metadata": {},
   "outputs": [
    {
     "data": {
      "text/plain": [
       "220"
      ]
     },
     "execution_count": 13,
     "metadata": {},
     "output_type": "execute_result"
    }
   ],
   "source": [
    "-710 -(-3)*(310)"
   ]
  },
  {
   "cell_type": "code",
   "execution_count": null,
   "id": "a42cdb4f-e70f-421d-bf80-620c4618e88b",
   "metadata": {},
   "outputs": [],
   "source": []
  }
 ],
 "metadata": {
  "kernelspec": {
   "display_name": "Python 3 (ipykernel)",
   "language": "python",
   "name": "python3"
  },
  "language_info": {
   "codemirror_mode": {
    "name": "ipython",
    "version": 3
   },
   "file_extension": ".py",
   "mimetype": "text/x-python",
   "name": "python",
   "nbconvert_exporter": "python",
   "pygments_lexer": "ipython3",
   "version": "3.12.4"
  }
 },
 "nbformat": 4,
 "nbformat_minor": 5
}
