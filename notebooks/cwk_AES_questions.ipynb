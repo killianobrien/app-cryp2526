{
 "cells": [
  {
   "cell_type": "markdown",
   "id": "b92871d5",
   "metadata": {},
   "source": [
    "# Coursework assignment: Advanced Encryption Standard (AES)\n",
    "## Applied Cryptography (6G6Z0024_2324_9)\n",
    "### Killian O'Brien"
   ]
  },
  {
   "cell_type": "markdown",
   "id": "05c41cd5",
   "metadata": {},
   "source": [
    "### Introduction\n",
    "\n",
    "#### The finite field $\\text{GF}\\left (2^8 \\right )$\n",
    "\n",
    "The Advanceed Encryption Standard (AES) makes use of the field $\\text{GF}\\left (2^8 \\right )$, consisting of polynomials of degree less than or equal to 7, with binary coefficients and polynomial operations carried out modulo the irreducible polynomial \n",
    " $$m(x) = x^8 + x^4 + x^3 + x +1.$$\n",
    " \n",
    "The integers $y$ in the range $0 \\leq y \\leq 255 = 2^8 - 1$ can be represented by the elements of $\\text{GF}\\left (2^8 \\right )$ by considering the the 8 binary digits of the binary representation of $m$ to be the coefficients of the polynomial. For example, the integer $y= 201$ has the representation `11001001` as a binary string. This string can be obtained from the output of the Python command `bin(201)`. So the polynomial corresponding to $y=201$ is given by \n",
    " $$y = 201 \\leftrightarrow x^7 + x^6 + x^3 + 1,$$\n",
    " i.e. the digits in the binary expansion of $201$, reading left to right, give the coefficients of $x^j$, for $j=7,6, \\dots 2, 1, 0$. \n",
    " ~\n",
    "#### Question parameters\n",
    "\n",
    "The following questions require inputs derived from your student ID number. Let $n$ denote your 8-digit Man Met student ID number. Now let $a$ and $b$ denote the 4-digit integers formed by, respectively, the left-hand and right-hand halves of $n$. \n",
    "\n",
    "For example, if $n = 21395495$ then we would have $a=2139$ and $b=5495$. But when working on these questions make sure that you are using your correct values of $n$, $a$ and $b$."
   ]
  },
  {
   "cell_type": "markdown",
   "id": "59846792",
   "metadata": {},
   "source": [
    "### Questions\n",
    "\n",
    "Let $A = (a \\, \\, \\text{mod} \\, \\, 255)$ and $B = (b \\, \\, \\text{mod} \\, \\, 255)$. Then let $P_A(x)$ and $P_B(x)$ be the polynomials corresponding to $A$ and $B$ respectively, as described in the introduction. \n",
    "\n",
    "1. Carry out the sequence of polynomial divisions with remainder of the Euclidean algorithm for polynomials, to confirm that $\\gcd(P_A(x), m(x))$ is indeed 1. \n",
    "2. Determine the product polynomial $P_A(x) \\cdot P_B(x)$, where the product is carried out with the multiplication operation of $\\text{GF}(2^8)$.\n",
    "3. Determine the polynomial $Q(x) = \\left ( P_A(x) \\right )^{-1}$, i.e. $Q(x)$ is the multiplicative inverse of $P_A(x)$ in $\\text{GF}\\left (2^8 \\right )$. The polynomial $Q(x)$ can be found from the extended Euclidean algorithm.\n",
    "\n",
    "Write up your solutions of these problems using Markdown cells in a Jupyter notebook."
   ]
  },
  {
   "cell_type": "code",
   "execution_count": null,
   "id": "3253ab8e",
   "metadata": {},
   "outputs": [],
   "source": []
  }
 ],
 "metadata": {
  "kernelspec": {
   "display_name": "Python 3",
   "language": "python",
   "name": "python3"
  },
  "language_info": {
   "codemirror_mode": {
    "name": "ipython",
    "version": 3
   },
   "file_extension": ".py",
   "mimetype": "text/x-python",
   "name": "python",
   "nbconvert_exporter": "python",
   "pygments_lexer": "ipython3",
   "version": "3.8.8"
  }
 },
 "nbformat": 4,
 "nbformat_minor": 5
}
