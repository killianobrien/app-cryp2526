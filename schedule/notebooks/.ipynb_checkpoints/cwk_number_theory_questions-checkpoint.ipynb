{
 "cells": [
  {
   "cell_type": "markdown",
   "id": "2c583c3f",
   "metadata": {},
   "source": [
    "# Coursework assignment: Number Theory\n",
    "## Applied Cryptography (6G6Z0024_2324_9)\n",
    "### Killian O'Brien"
   ]
  },
  {
   "cell_type": "markdown",
   "id": "816561c9",
   "metadata": {},
   "source": [
    "#### Jupyter noptebooks\n",
    "\n",
    "You will compose your solutions of the coursework questions in the form of a Jupyter Python 3 notebook. This will allow you to include both Python code and its associated output, and text cells containing explanations. \n",
    "\n",
    "The final submission of your portfolio will be in the form of a single Jupyter notebook containing the solutions to the various coursework questions. Further guidance on the format of your submission will follow in due course. But for now make sure you are saving copies of your work in Jupyter notebook format in a secure location, such as your university `OneDrive` storage. \n",
    "\n",
    "In your notebook you will make use of code cells with Python code, and Markdown cells for your textual explanations. To see the basics of using Markdown cells to create text paragraphs have a look at some of the previous Jupyter notebooks released on the unit's Moodle page and consult the guidance on *Markdown cells* in the [Jupyter notebook documentation](https://jupyter-notebook.readthedocs.io/en/latest/notebook.html) at this link.\n",
    "\n",
    "Markdown cells are referred to simply as *text cells* in the questions below. "
   ]
  },
  {
   "cell_type": "markdown",
   "id": "69d69a89",
   "metadata": {},
   "source": [
    "### Introduction and question parameters"
   ]
  },
  {
   "cell_type": "markdown",
   "id": "57916ead",
   "metadata": {},
   "source": [
    "The following questions require inputs derived from your student ID number. Let $n$ denote your 8-digit Man Met student ID number. Now let $a$ and $b$ denote the 4-digit integers formed by, respectively, the left-hand and right-hand halves of $n$. \n",
    "\n",
    "For example, if $n = 21395495$ then we would have $a=2139$ and $b=5495$. But when working on these questions make sure that you are using your correct values of $n$, $a$ and $b$. "
   ]
  },
  {
   "cell_type": "markdown",
   "id": "ce2c5a2a",
   "metadata": {},
   "source": [
    "### Number Theory questions\n",
    "\n",
    "The questions below are based on the work carried out in Lab sessions 01 and 02. Prepare your solutions to these questions in a Jupyter notebook. In general you will make use of a mixture of code and text cells to carry out and explain your solutions. Pay **close attention** to the directions given in each question. "
   ]
  },
  {
   "cell_type": "markdown",
   "id": "eea5787f",
   "metadata": {},
   "source": [
    "#### NT.01\n",
    "\n",
    "Demonstrate your understanding of the Euclidean Algorithm by performing the sequence of integer divisions with remainder that is necessary to calculate $\\gcd(a,b)$ using the Euclidean algorithm. \n",
    "\n",
    "These calculations should be done using a version of the function `mygcd`, written in lab session 01, that prints out the sequence of integer divisions. Include the code in your submission and provide a text cell that gives a brief summary, in your own words, of how the algorithm is working and why the number produced is the required $\\text{gcd}$ value."
   ]
  },
  {
   "cell_type": "markdown",
   "id": "66923454",
   "metadata": {},
   "source": [
    "#### NT.02\n",
    "\n",
    "Use a code cell and an appropriate command from the `Sympy` library to determine the prime factorizations of $a$ and $b$. Use a text cell to briefly explain why the value of $\\gcd(a,b)$ you calculated in **NT.01** can be *seen in* the prime factorizations of $a$ and $b$. "
   ]
  },
  {
   "cell_type": "markdown",
   "id": "b7e127db",
   "metadata": {},
   "source": [
    "#### NT.03\n",
    "\n",
    "Demonstrate your understading of the Extended Euclidean Algorithm by determining the values of integer coefficients $x$ and $y$ that satisfy \n",
    "$$\\gcd(a,b) = xa + yb.$$\n",
    "\n",
    "This should be done using a version of the `mygcdex` code, written in lab session 01, and an accompanying text block that demonstrates your understanding by briefly explaining in your own words, the main points of how the code works and why the output it produces are the required coefficients $x$ and $y$.\n",
    "\n"
   ]
  },
  {
   "cell_type": "markdown",
   "id": "0c6249ae",
   "metadata": {},
   "source": [
    "#### NT.04\n",
    " \n",
    "Use a text block to explain how to alter the definition of the Python function `mygcdex` so that it produces a different pair of coefficients $(x,y)$ that satisfy the condition in **NT.03**.\n",
    "\n",
    "Then use a code block to write a Python routine that can generate any number of different coefficient pairs $(x,y)$. Demonstrate it by producing $10$ distinct such pairs that satisfy\n",
    "$$\\gcd(a,b) = xa + yb.$$"
   ]
  },
  {
   "cell_type": "markdown",
   "id": "7bd0f638",
   "metadata": {},
   "source": [
    "#### NT.05\n",
    "\n",
    "Let $p$ be the prime number \n",
    "$$p = 113.$$\n",
    "Use the result of Fermat's Little Theorem to calculate the value of \n",
    "$$\\left ( 3^n \\, \\, \\text{mod }p \\, \\, \\right ).$$\n",
    "\n",
    "Use text cell(s) to explain your working and you may use code cell(s) to carry out any necessary calculations. You can make use of the `Mod` command from the `Sympy` library, but you should do so using inputs influenced by the application of Fermat's Little Theorem, (i.e. smaller inputs than the raw `3**n` value. \n",
    "\n",
    "You can of course make use of any call to `sympy.Mod` to confirm your work."
   ]
  },
  {
   "cell_type": "markdown",
   "id": "63668d45",
   "metadata": {},
   "source": [
    "#### NT.06\n",
    "\n",
    "Use the method of *repeated squaring* to calculate the value of \n",
    "$$\\left ( 5^n \\, \\, \\text{mod }p \\, \\, \\right ),$$\n",
    "without any reference to Fermat's Little Theorem or Euler's Theorem.\n",
    "\n",
    "In your answer you should use code cell(s) to determine the binary representation of $n$ and to determine the necessary sequence of powers for the repeated squaring technique. \n",
    "\n",
    "Again, confirm your work with the use of any call to `sympy.Mod`."
   ]
  },
  {
   "cell_type": "code",
   "execution_count": null,
   "id": "484bbe40",
   "metadata": {},
   "outputs": [],
   "source": []
  }
 ],
 "metadata": {
  "kernelspec": {
   "display_name": "Python 3",
   "language": "python",
   "name": "python3"
  },
  "language_info": {
   "codemirror_mode": {
    "name": "ipython",
    "version": 3
   },
   "file_extension": ".py",
   "mimetype": "text/x-python",
   "name": "python",
   "nbconvert_exporter": "python",
   "pygments_lexer": "ipython3",
   "version": "3.8.8"
  }
 },
 "nbformat": 4,
 "nbformat_minor": 5
}
