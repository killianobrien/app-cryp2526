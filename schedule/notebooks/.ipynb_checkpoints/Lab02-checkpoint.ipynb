{
 "cells": [
  {
   "cell_type": "markdown",
   "id": "efb6bf24",
   "metadata": {},
   "source": [
    "# Week 02 Lab\n",
    "## Applied Cryptography (6G6Z0024_2324_9)\n",
    "### Killian O'Brien"
   ]
  },
  {
   "cell_type": "markdown",
   "id": "c68a2e94",
   "metadata": {},
   "source": [
    "####  Getting started\n",
    "\n",
    "* I've realised since last week that Jupyter notebooks are installed directly on the PCs so we don't have to go through the `Anaconda` system. So to launch your Jupyter notebook server simply search for `Jupyter` on the `Start` menu and launch the app. This should present you with a file browser in a web browser. From here you can launch a `Python3` notebook. \n",
    "* You can also upload any existing/downloaded notbooks from this file browser.\n",
    "* Remember to save your notebooks somewhere sensible, such as your `OneDrive`.\n",
    "* Remember that a Jupyter notebook cell can be set to *Code* or *Markdown*, suing the drop down menu box at the top of the notebook or the keyboard shortcuts `Y` and `M`, keyed when the cell is selected, but not with the cursor inside it, otherwise you'll simply type a Y or M. Markdown cells can be used to enter text description of your work, Just like you see here in this labsheet. Guidance can be found in the [Jupyter documentation](https://jupyter-notebook.readthedocs.io/en/stable/examples/Notebook/Working%20With%20Markdown%20Cells.html)."
   ]
  },
  {
   "cell_type": "markdown",
   "id": "3557c1d2",
   "metadata": {},
   "source": [
    "#### The Chinese Remainder theorem\n",
    "\n",
    "* During the week I'll publish a short video lecture on the CRT which explains the result and what it can be used for."
   ]
  },
  {
   "cell_type": "markdown",
   "id": "35f4946f",
   "metadata": {},
   "source": [
    "#### Today's lab activities\n",
    "\n",
    "1. Initially I'll be available to circulate and answer any queries you had on last week's work and the lab solutions I have posted on the unit's [Moodle area](https://moodle.mmu.ac.uk/course/view.php?id=172138). \n",
    "\n",
    "2. Below you'll find a number of tasks to familiarise yourself with this week's topics.\n",
    "\n",
    "3. Remember to import the Sympy library at the top of your notebook by execting the following command:"
   ]
  },
  {
   "cell_type": "code",
   "execution_count": 1,
   "id": "5419cac5",
   "metadata": {},
   "outputs": [],
   "source": [
    "import sympy as sp"
   ]
  },
  {
   "cell_type": "markdown",
   "id": "eb0e8c9e",
   "metadata": {},
   "source": [
    "#### Primes"
   ]
  },
  {
   "cell_type": "markdown",
   "id": "80551ebc",
   "metadata": {},
   "source": [
    "Familiarise yourself with some of Sympy's prime related functions. \n",
    "\n",
    "* Have a look at the Sympy documentation on its [Number Theory related functions](https://docs.sympy.org/latest/modules/ntheory.html#)\n",
    "\n",
    "* On that page you will find examples of usage for the functions\n",
    "    - `primerange()`\n",
    "    - `prime()`\n",
    "    - `primepi()`\n",
    "    - `nextprime()`\n",
    "    - `prevprime()`\n",
    "    - `isprime()`\n",
    "    - see what others you can find. \n",
    "* You can slo view function docstrings by exectuing the name of the command followed immediately bu a question mark, for instance by executing `sp.isprime?`\n",
    "* Use these in your own Jupyter notebook. Become acquainted with how to use them and what their output is. "
   ]
  },
  {
   "cell_type": "markdown",
   "id": "58807c3c",
   "metadata": {},
   "source": [
    "For these tasks let $n$ be the integer given by your 8-digit Man Met student ID number.\n",
    "\n",
    "1. Find the prime integers either side of $n$.\n",
    "2. Consult the docstring on the function `sp.factorint()`. You can quickly do this by executing `sp.factorint?` in a notebook code cell.\n",
    "3. Find the prime factorization of $n$, and confirm it by evaluating the relevant product of primes. Are you lucky enough to possess a prime ID number?\n",
    "4. For the prime factors $p$ that appear in the factorization of your $n$, are any of the numbers $2^p - 1$ also prime? If you so you have discovered a Mersenne prime associated to your ID number. Remember you enter $2^p - 1$ in Python as `2**p -1`.\n",
    "\n",
    "#### Fermat's Little Theorem\n",
    "\n",
    "5. For the largest prime $p$ appearing the factorization of your $n$, verify Fermat's Little theorem as follows. Use the function `sp.Mod()` to confirm that $a^{p-1}$ is indeed congruent to 1 modulo $p$. Do this for maybe all the integers $a$ in the range $1 \\leq a \\lt p$. Though if your $p$ is large this may take some time. So maybe abort the execution and test instead for some significant segment of this range of $a$. Use some kind of efficient code to dso this. Maybe a Python `for` loop. Or perhaps make use of the Python `all` command ...\n",
    "\n",
    "The next prime year is 2027.\n",
    "\n",
    "6. Suppose we wanted to find the value of $2^n \\pmod{2027}$. Use Fermat's little theorem and the reduction of $n$ modulo $2026$ to obtain this value. Then confirm with the use of the command `sp.Mod(2**n,2027)`."
   ]
  },
  {
   "cell_type": "markdown",
   "id": "0ae290dd",
   "metadata": {},
   "source": [
    "Note that you cannot easily obtain the raw integer value of $2^n$ using Python, as it is **very** large. So `sp.Mod` must implement this Fermat's/Euler's theorem technique, or perhaps the repeated squares technique, or a combination of both depending on the size/structure of its input. If you do try and execute `2**n` in a code cell, you can use the square STOP button at the top of the notebook to halt the execution. "
   ]
  },
  {
   "cell_type": "markdown",
   "id": "17e153ff",
   "metadata": {},
   "source": [
    "#### Euler's theorem and the Euler totient function"
   ]
  },
  {
   "cell_type": "markdown",
   "id": "84b99500",
   "metadata": {},
   "source": [
    "7. Use your factorization of $n$ to compute the Euler totient function value $\\phi(n)$. Then confirm your answer by using Sympy's function `sp.totient()`.\n",
    "8. Recall from the lecture that $2^{82589933}-1$ is the current largest known prime, to humans! Use Euler's theorem and your totient value $\\phi(n)$ to obtain the value of $2^{82589933} \\pmod{n}$ in two different ways using `sp.Mod()`.\n",
    "9. Suppose you didn't have access to Python or Sympy, and just had a simple calculator for doing integer arithmetic. Try and confirm the value of $2^{82589933} \\pmod{n}$ by using only calulator style arithmetic and the technique of repeated squaring. You will need to express $82589933$ as a sum of powers of $2$. You can determine this expression by inspecting the binary representation of $82589933$, which you can get using the Python command `bin(82589933)`.\n",
    "\n",
    "In ansering this last question you can allow yourself to use Python and its modular reduction operator `%`, but try and do so using arguments as small as possible."
   ]
  },
  {
   "cell_type": "markdown",
   "id": "dc3b4495",
   "metadata": {},
   "source": [
    "#### Further problems from Stallings"
   ]
  },
  {
   "cell_type": "markdown",
   "id": "28830d48",
   "metadata": {},
   "source": [
    "To further explore these topics you could try some of the problems from the end of chapter 2 of Stallings. Suggested problems are \n",
    "\n",
    "* 2.20 -- 2.24\n",
    "* 2.30 "
   ]
  },
  {
   "cell_type": "code",
   "execution_count": null,
   "id": "440e57b2",
   "metadata": {},
   "outputs": [],
   "source": []
  }
 ],
 "metadata": {
  "kernelspec": {
   "display_name": "Python 3",
   "language": "python",
   "name": "python3"
  },
  "language_info": {
   "codemirror_mode": {
    "name": "ipython",
    "version": 3
   },
   "file_extension": ".py",
   "mimetype": "text/x-python",
   "name": "python",
   "nbconvert_exporter": "python",
   "pygments_lexer": "ipython3",
   "version": "3.8.8"
  }
 },
 "nbformat": 4,
 "nbformat_minor": 5
}
