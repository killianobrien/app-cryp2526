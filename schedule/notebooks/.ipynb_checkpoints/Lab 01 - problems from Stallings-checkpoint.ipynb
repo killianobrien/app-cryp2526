{
 "cells": [
  {
   "cell_type": "markdown",
   "id": "25710740",
   "metadata": {},
   "source": [
    "# Week 01 Lab solutions\n",
    "## Applied Cryptography (6G6Z0024_2324_9)\n",
    "### Killian O'Brien"
   ]
  },
  {
   "cell_type": "markdown",
   "id": "967ba0a8",
   "metadata": {},
   "source": [
    "Solutions to some selected problems from <a href=\"https://mmu.on.worldcat.org/oclc/1064983791\" target=\"_blank\">Stallings, Chapter 2: Introduction to Number Theory</a>, mentioned in lab session 01. \n",
    "\n",
    "Problems \n",
    "\n",
    "* 2.3\n",
    "* 2.11\n",
    "* 2.12\n",
    "* Problems 2.13, 2.14 and 2.15 carry out further investigation of Euclid’s algorithm and an alternative algorithm for computing gcd.\n",
    "* 2.16\n",
    "\n",
    "To help us we will make use of our `mygcd`, `mygcdex` and `mymod_inverse` functions we wrote in the earlier solutions. \n",
    "\n",
    "Remember the command `sympy.Mod(a,n)` will return the value of $a$ modulo $n$, as the smallest positive residue modulo $n$."
   ]
  },
  {
   "cell_type": "code",
   "execution_count": 2,
   "id": "0872c607",
   "metadata": {},
   "outputs": [],
   "source": [
    "import sympy as sp\n",
    "\n",
    "def mygcd(a,b):\n",
    "    a = abs(a)\n",
    "    b = abs(b)\n",
    "    if b==0:\n",
    "        return a\n",
    "    elif a==0:\n",
    "        return b\n",
    "    else:\n",
    "        q = sp.floor(a/b)\n",
    "        r = a - q*b\n",
    "        #s = 'The int div with remainder is '+str(a)+'='+str(q)+'*'+str(b)+'+'+str(r)\n",
    "        #print(s)\n",
    "        return mygcd(b,r)\n",
    "\n",
    "def mygcdex(a,b):\n",
    "    if b==0:\n",
    "        return (1,0,a)\n",
    "    else:\n",
    "        # int div a = q*b + r,  0<= r < abs(b)\n",
    "        q = sp.floor(a/b)\n",
    "        \n",
    "        if b > 0:\n",
    "            r = a - q*b\n",
    "        elif b < 0:\n",
    "            r = a - (q+1)*b\n",
    "            \n",
    "        (x,y,d) = mygcdex(b,r)\n",
    "        newx = y\n",
    "        if b > 0:\n",
    "            newy = x - q*y\n",
    "        elif b < 0:\n",
    "            newy = x - y*(q+1)\n",
    "        return (newx,newy,d)\n",
    "    \n",
    "def mymod_inverse(x,n):\n",
    "    t = mygcdex(x,n)\n",
    "    if t[2] != 1:\n",
    "        raise ValueError('The element '+str(x)+' is not invertible modulo '+str(n))\n",
    "    return sp.Mod(t[0],n)"
   ]
  },
  {
   "cell_type": "markdown",
   "id": "f9daebbb",
   "metadata": {},
   "source": [
    "#### Problem 2.3\n",
    "\n",
    "For these problems, to solve \n",
    "$$ax \\equiv b \\pmod{n}$$\n",
    "we shall express the solutions as \n",
    "$$x \\equiv a^{-1} b \\pmod{n}$$\n",
    "where $a^{-1}$ is the multiplicative inverse of $a$ modulo $n$, and then calculate this using our functions. Thsi assumes that $a^{-1}$ exists, i.e. that $\\gcd{a,n}=1$. If $\\gcd{a,n} \\neq 1$ then it can be shown that solutions will exists, and there will me multiple such solutions, provided that $\\gcd{a,n}$ divides $b$.\n",
    "\n",
    "* a. $4x \\equiv 2 \\pmod{3}$\n",
    "* b. $7x \\equiv 4 \\pmod{9}$\n",
    "* c. $5x \\equiv 3 \\pmod{11}$\n",
    "\n"
   ]
  },
  {
   "cell_type": "code",
   "execution_count": 4,
   "id": "98f66645",
   "metadata": {},
   "outputs": [
    {
     "data": {
      "text/latex": [
       "$\\displaystyle 2$"
      ],
      "text/plain": [
       "2"
      ]
     },
     "execution_count": 4,
     "metadata": {},
     "output_type": "execute_result"
    }
   ],
   "source": [
    "# a.\n",
    "x = sp.Mod(mymod_inverse(4,3)*2,3)\n",
    "x"
   ]
  },
  {
   "cell_type": "code",
   "execution_count": 5,
   "id": "91b68c65",
   "metadata": {},
   "outputs": [
    {
     "data": {
      "text/latex": [
       "$\\displaystyle 7$"
      ],
      "text/plain": [
       "7"
      ]
     },
     "execution_count": 5,
     "metadata": {},
     "output_type": "execute_result"
    }
   ],
   "source": [
    "# b.\n",
    "x = sp.Mod(mymod_inverse(7,9)*4,9)\n",
    "x"
   ]
  },
  {
   "cell_type": "code",
   "execution_count": 6,
   "id": "1fff742a",
   "metadata": {},
   "outputs": [
    {
     "data": {
      "text/latex": [
       "$\\displaystyle 5$"
      ],
      "text/plain": [
       "5"
      ]
     },
     "execution_count": 6,
     "metadata": {},
     "output_type": "execute_result"
    }
   ],
   "source": [
    "# c.\n",
    "x = sp.Mod(mymod_inverse(5,11)*3,11)\n",
    "x"
   ]
  },
  {
   "cell_type": "markdown",
   "id": "c9c86499",
   "metadata": {},
   "source": [
    "#### Problem 2.11\n",
    "\n",
    "This requires just a little thought and explanation. Think about the meaning of our usual denary representation of numbers, where each digit represents a multiple of a power of 10, according to its position in the written number, e.g.\n",
    "$$ 723 = 7 \\cdot 10^2 + 2 \\cdot 10^1 + 3 \\cdot 10^0.$$\n",
    "\n",
    "Now, each power of 10 is congruent to 1 modulo 9, because we can write it as a multiple of 9, plus 1, as in \n",
    "$$10^n = 100\\dots 0000 = 99 \\dots 9999 + 1 = 9 \\cdot 11 \\dots 1111 + 1 \\equiv 1 \\pmod{9}.$$\n",
    "So, by the properties of modular arithmetic, when we reduce a number modulo 9, we can replace each power of 10 by 1, and so the value modulo 9 becomes the sum of the digits, as in \n",
    "$$ 723 = 7 \\cdot 10^2 + 2 \\cdot 10^1 + 3 \\cdot 10^0 \\equiv \n",
    "7 \\cdot 1 + 2 \\cdot 1 + 3 \\cdot 1 \\equiv 7+2+3 \\pmod{9}.$$"
   ]
  },
  {
   "cell_type": "markdown",
   "id": "6f6f085c",
   "metadata": {},
   "source": [
    "#### Problem 2.12\n",
    "Well these just require use of our mygcd program, for instance. "
   ]
  },
  {
   "cell_type": "code",
   "execution_count": 7,
   "id": "5234a0ae",
   "metadata": {},
   "outputs": [
    {
     "data": {
      "text/latex": [
       "$\\displaystyle 15$"
      ],
      "text/plain": [
       "15"
      ]
     },
     "execution_count": 7,
     "metadata": {},
     "output_type": "execute_result"
    }
   ],
   "source": [
    "mygcd(72345,43215)"
   ]
  },
  {
   "cell_type": "markdown",
   "id": "aea1c279",
   "metadata": {},
   "source": [
    "We can insert a line into `mygcd` to actually print out the integer divisions with remainder, so we can see the working of the algorithm"
   ]
  },
  {
   "cell_type": "code",
   "execution_count": 22,
   "id": "751d9650",
   "metadata": {},
   "outputs": [],
   "source": [
    "def mygcdprint(a,b):\n",
    "    a = abs(a)\n",
    "    b = abs(b)\n",
    "    if b==0:\n",
    "        return a\n",
    "    elif a==0:\n",
    "        return b\n",
    "    else:\n",
    "        q = sp.floor(a/b)\n",
    "        r = a - q*b\n",
    "        s = 'The int div with remainder is '+str(a)+'='+str(q)+'*'+str(b)+'+'+str(r)\n",
    "        print(s)\n",
    "        return mygcdprint(b,r)"
   ]
  },
  {
   "cell_type": "code",
   "execution_count": 23,
   "id": "170c9875",
   "metadata": {},
   "outputs": [
    {
     "name": "stdout",
     "output_type": "stream",
     "text": [
      "The int div with remainder is 72345=1*43215+29130\n",
      "The int div with remainder is 43215=1*29130+14085\n",
      "The int div with remainder is 29130=2*14085+960\n",
      "The int div with remainder is 14085=14*960+645\n",
      "The int div with remainder is 960=1*645+315\n",
      "The int div with remainder is 645=2*315+15\n",
      "The int div with remainder is 315=21*15+0\n"
     ]
    },
    {
     "data": {
      "text/latex": [
       "$\\displaystyle 15$"
      ],
      "text/plain": [
       "15"
      ]
     },
     "execution_count": 23,
     "metadata": {},
     "output_type": "execute_result"
    }
   ],
   "source": [
    "mygcdprint(72345,43215)"
   ]
  },
  {
   "cell_type": "markdown",
   "id": "98c42289",
   "metadata": {},
   "source": [
    "#### Probelm 2.14\n",
    "\n",
    "*An implementation of Stein's algorithm for the gcd*\n",
    "\n",
    "Let's implement Stein's algorithm as specified in problem 2.14. Testing an integer for being even or odd can be done quickly with Pythion's `%` mod operator, which like `sympy.Mod`, will return the value of $a$ modulo $n$, for `a%n`. So an integer $a$ is even if `a%2` is is 0, and odd if `a%2` is 1. \n",
    "\n",
    "This could be implemented using recursion, like our previous gcd implementations, but this time I shall use a `while` loop to achieve the same thing. "
   ]
  },
  {
   "cell_type": "code",
   "execution_count": 59,
   "id": "0040eaeb",
   "metadata": {},
   "outputs": [],
   "source": [
    "def Steingcd(a,b):\n",
    "    c = 1\n",
    "    while a != b:\n",
    "        # uncomment the line below to see the intermediate states of a,b,c\n",
    "        # print(a,b,c)\n",
    "        if a%2 == 0 and b%2 == 0:\n",
    "            a = a/2\n",
    "            b = b/2\n",
    "            c = 2*c\n",
    "        elif a%2 == 0 and b%2 == 1:\n",
    "            a = a/2\n",
    "        elif a%2 == 1 and b%2 == 0:\n",
    "            b = b/2\n",
    "        elif a%2 == 1 and b%2 == 1:\n",
    "            atemp = abs(a-b)\n",
    "            b = min(a,b)\n",
    "            a = atemp            \n",
    "    else:\n",
    "        return int(a*c)"
   ]
  },
  {
   "cell_type": "code",
   "execution_count": 60,
   "id": "ff632a71",
   "metadata": {},
   "outputs": [
    {
     "data": {
      "text/plain": [
       "2"
      ]
     },
     "execution_count": 60,
     "metadata": {},
     "output_type": "execute_result"
    }
   ],
   "source": [
    "Steingcd(6150, 704)"
   ]
  },
  {
   "cell_type": "markdown",
   "id": "0a421181",
   "metadata": {},
   "source": [
    "#### Problem 2.16\n",
    "These just require calling our `mymod_inverse` function, e.g."
   ]
  },
  {
   "cell_type": "code",
   "execution_count": 61,
   "id": "e9edd79a",
   "metadata": {},
   "outputs": [
    {
     "data": {
      "text/latex": [
       "$\\displaystyle 47$"
      ],
      "text/plain": [
       "47"
      ]
     },
     "execution_count": 61,
     "metadata": {},
     "output_type": "execute_result"
    }
   ],
   "source": [
    "mymod_inverse(135,61)"
   ]
  },
  {
   "cell_type": "code",
   "execution_count": 63,
   "id": "9062afd4",
   "metadata": {},
   "outputs": [
    {
     "data": {
      "text/latex": [
       "$\\displaystyle 1$"
      ],
      "text/plain": [
       "1"
      ]
     },
     "execution_count": 63,
     "metadata": {},
     "output_type": "execute_result"
    }
   ],
   "source": [
    "sp.Mod(135*47,61)"
   ]
  },
  {
   "cell_type": "code",
   "execution_count": null,
   "id": "fa735277",
   "metadata": {},
   "outputs": [],
   "source": []
  }
 ],
 "metadata": {
  "kernelspec": {
   "display_name": "Python 3",
   "language": "python",
   "name": "python3"
  },
  "language_info": {
   "codemirror_mode": {
    "name": "ipython",
    "version": 3
   },
   "file_extension": ".py",
   "mimetype": "text/x-python",
   "name": "python",
   "nbconvert_exporter": "python",
   "pygments_lexer": "ipython3",
   "version": "3.8.8"
  }
 },
 "nbformat": 4,
 "nbformat_minor": 5
}
