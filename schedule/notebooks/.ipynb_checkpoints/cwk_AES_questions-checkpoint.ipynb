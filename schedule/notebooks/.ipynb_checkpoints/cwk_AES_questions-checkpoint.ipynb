{
 "cells": [
  {
   "cell_type": "markdown",
   "id": "0dd15802",
   "metadata": {},
   "source": [
    "# Coursework assignment: Advanced Encryption Standard (AES)\n",
    "## Applied Cryptography (6G6Z0024_2324_9)\n",
    "### Killian O'Brien"
   ]
  },
  {
   "cell_type": "markdown",
   "id": "edf221eb",
   "metadata": {},
   "source": [
    "### Introduction\n",
    "\n",
    "#### The finite field $\\text{GF}(2^8)$\n",
    "\n",
    "The Advanceed Encryption Standard (AES) makes use of the field $\\text{GF}(2^8)$, consisting of polynomials of degree less than or equal to 7, with binary coefficients and polynomial operations carried out modulo the irreducible polynomial \n",
    " $$m(x) = x^8 + x^4 + x^3 + x +1.$$\n",
    " \n",
    " The integers $n$ in the range $0 \\leq n \\leq 255 = 2^8 - 1$ can be represented by the elements of $\\text{GF}(2^8)$ by considering the the 8 binary digits of the binary representation of $m$ to be the coefficients of the polynomial. For example, the integer $n= 201$ has the representation `11001001` as a binary string. This string can be obtained from the output of the Pytho command `bin(201)`. So the polynomial corresponding to $m=201$ is given by \n",
    " $$m = 201 \\leftrightarrow x^7 + x^6 + x^3 + 1,$$\n",
    " i.e. the digits in the binary expansion of $201$, reading left to right, give the coefficients of $x^j$, for $j=7,6, \\dots 2, 1, 0$. \n",
    " \n",
    "#### Question parameters\n",
    "\n",
    "The following questions require inputs derived from your student ID number. Let $n$ denote your 8-digit Man Met student ID number. Now let $a$ and $b$ denote the 4-digit integers formed by, respectively, the left-hand and right-hand halves of $n$. \n",
    "\n",
    "For example, if $n = 21395495$ then we would have $a=2139$ and $b=5495$. But when working on these questions make sure that you are using your correct values of $n$, $a$ and $b$."
   ]
  },
  {
   "cell_type": "markdown",
   "id": "d5542a6a",
   "metadata": {},
   "source": [
    "### "
   ]
  }
 ],
 "metadata": {
  "kernelspec": {
   "display_name": "Python 3",
   "language": "python",
   "name": "python3"
  },
  "language_info": {
   "codemirror_mode": {
    "name": "ipython",
    "version": 3
   },
   "file_extension": ".py",
   "mimetype": "text/x-python",
   "name": "python",
   "nbconvert_exporter": "python",
   "pygments_lexer": "ipython3",
   "version": "3.8.8"
  }
 },
 "nbformat": 4,
 "nbformat_minor": 5
}
